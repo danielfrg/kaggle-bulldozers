{
 "metadata": {
  "name": "ml_missing"
 },
 "nbformat": 3,
 "nbformat_minor": 0,
 "worksheets": [
  {
   "cells": [
    {
     "cell_type": "code",
     "collapsed": false,
     "input": [
      "%load_ext autoreload"
     ],
     "language": "python",
     "metadata": {},
     "outputs": [],
     "prompt_number": 1
    },
    {
     "cell_type": "code",
     "collapsed": false,
     "input": [
      "%autoreload 2"
     ],
     "language": "python",
     "metadata": {},
     "outputs": [],
     "prompt_number": 2
    },
    {
     "cell_type": "code",
     "collapsed": false,
     "input": [
      "import copper"
     ],
     "language": "python",
     "metadata": {},
     "outputs": [],
     "prompt_number": 3
    },
    {
     "cell_type": "code",
     "collapsed": false,
     "input": [
      "copper.project.path = '..'"
     ],
     "language": "python",
     "metadata": {},
     "outputs": [],
     "prompt_number": 4
    },
    {
     "cell_type": "code",
     "collapsed": false,
     "input": [
      "ds = copper.load('cleaned_py2')"
     ],
     "language": "python",
     "metadata": {},
     "outputs": [],
     "prompt_number": 5
    },
    {
     "cell_type": "code",
     "collapsed": false,
     "input": [
      "ds.metadata"
     ],
     "language": "python",
     "metadata": {},
     "outputs": [
      {
       "html": [
        "<div style=\"max-height:1000px;max-width:1500px;overflow:auto;\">\n",
        "<table border=\"1\" class=\"dataframe\">\n",
        "  <thead>\n",
        "    <tr style=\"text-align: right;\">\n",
        "      <th></th>\n",
        "      <th>Role</th>\n",
        "      <th>Type</th>\n",
        "      <th>dtype</th>\n",
        "    </tr>\n",
        "  </thead>\n",
        "  <tbody>\n",
        "    <tr>\n",
        "      <th>SalePrice</th>\n",
        "      <td> Target</td>\n",
        "      <td>   Number</td>\n",
        "      <td>  int64</td>\n",
        "    </tr>\n",
        "    <tr>\n",
        "      <th>YearMade</th>\n",
        "      <td>  Input</td>\n",
        "      <td>   Number</td>\n",
        "      <td>  int64</td>\n",
        "    </tr>\n",
        "    <tr>\n",
        "      <th>saledate</th>\n",
        "      <td>  Input</td>\n",
        "      <td>   Number</td>\n",
        "      <td>  int64</td>\n",
        "    </tr>\n",
        "    <tr>\n",
        "      <th>fiBaseModel</th>\n",
        "      <td>  Input</td>\n",
        "      <td> Category</td>\n",
        "      <td> object</td>\n",
        "    </tr>\n",
        "    <tr>\n",
        "      <th>fiSecondaryDesc</th>\n",
        "      <td>  Input</td>\n",
        "      <td> Category</td>\n",
        "      <td> object</td>\n",
        "    </tr>\n",
        "    <tr>\n",
        "      <th>ProductSize</th>\n",
        "      <td>  Input</td>\n",
        "      <td> Category</td>\n",
        "      <td> object</td>\n",
        "    </tr>\n",
        "    <tr>\n",
        "      <th>state</th>\n",
        "      <td>  Input</td>\n",
        "      <td> Category</td>\n",
        "      <td> object</td>\n",
        "    </tr>\n",
        "    <tr>\n",
        "      <th>ProductGroup</th>\n",
        "      <td>  Input</td>\n",
        "      <td> Category</td>\n",
        "      <td> object</td>\n",
        "    </tr>\n",
        "    <tr>\n",
        "      <th>Enclosure</th>\n",
        "      <td>  Input</td>\n",
        "      <td> Category</td>\n",
        "      <td> object</td>\n",
        "    </tr>\n",
        "    <tr>\n",
        "      <th>Hydraulics</th>\n",
        "      <td>  Input</td>\n",
        "      <td> Category</td>\n",
        "      <td> object</td>\n",
        "    </tr>\n",
        "  </tbody>\n",
        "</table>\n",
        "</div>"
       ],
       "output_type": "pyout",
       "prompt_number": 6,
       "text": [
        "                   Role      Type   dtype\n",
        "SalePrice        Target    Number   int64\n",
        "YearMade          Input    Number   int64\n",
        "saledate          Input    Number   int64\n",
        "fiBaseModel       Input  Category  object\n",
        "fiSecondaryDesc   Input  Category  object\n",
        "ProductSize       Input  Category  object\n",
        "state             Input  Category  object\n",
        "ProductGroup      Input  Category  object\n",
        "Enclosure         Input  Category  object\n",
        "Hydraulics        Input  Category  object"
       ]
      }
     ],
     "prompt_number": 6
    },
    {
     "cell_type": "code",
     "collapsed": false,
     "input": [
      "ds.percent_missing()"
     ],
     "language": "python",
     "metadata": {},
     "outputs": [
      {
       "output_type": "pyout",
       "prompt_number": 7,
       "text": [
        "ProductSize        0.525460\n",
        "fiSecondaryDesc    0.342016\n",
        "Hydraulics         0.200848\n",
        "Enclosure          0.000815\n",
        "ProductGroup       0.000000\n",
        "state              0.000000\n",
        "fiBaseModel        0.000000\n",
        "saledate           0.000000\n",
        "YearMade           0.000000\n",
        "SalePrice          0.000000"
       ]
      }
     ],
     "prompt_number": 7
    },
    {
     "cell_type": "code",
     "collapsed": false,
     "input": [
      "ds.fillna(method='mean')"
     ],
     "language": "python",
     "metadata": {},
     "outputs": [],
     "prompt_number": 8
    },
    {
     "cell_type": "code",
     "collapsed": false,
     "input": [
      "ds.percent_missing()"
     ],
     "language": "python",
     "metadata": {},
     "outputs": [
      {
       "output_type": "pyout",
       "prompt_number": 9,
       "text": [
        "Hydraulics         0\n",
        "Enclosure          0\n",
        "ProductGroup       0\n",
        "state              0\n",
        "ProductSize        0\n",
        "fiSecondaryDesc    0\n",
        "fiBaseModel        0\n",
        "saledate           0\n",
        "YearMade           0\n",
        "SalePrice          0"
       ]
      }
     ],
     "prompt_number": 9
    },
    {
     "cell_type": "code",
     "collapsed": false,
     "input": [
      "ds.filter(type=ds.CATEGORY, ret_ds=True).unique_values()"
     ],
     "language": "python",
     "metadata": {},
     "outputs": [
      {
       "output_type": "pyout",
       "prompt_number": 10,
       "text": [
        "fiBaseModel        1950\n",
        "fiSecondaryDesc     175\n",
        "state                53\n",
        "Hydraulics           11\n",
        "ProductGroup          6\n",
        "ProductSize           6\n",
        "Enclosure             4"
       ]
      }
     ],
     "prompt_number": 10
    },
    {
     "cell_type": "code",
     "collapsed": false,
     "input": [
      "ds.role['fiBaseModel'] = ds.REJECT\n",
      "ds.role['fiSecondaryDesc'] = ds.REJECT"
     ],
     "language": "python",
     "metadata": {},
     "outputs": [],
     "prompt_number": 11
    },
    {
     "cell_type": "code",
     "collapsed": false,
     "input": [
      "ds.role['state'] = ds.REJECT\n",
      "ds.role['saledate'] = ds.REJECT"
     ],
     "language": "python",
     "metadata": {},
     "outputs": [],
     "prompt_number": 28
    },
    {
     "cell_type": "code",
     "collapsed": false,
     "input": [
      "ds.metadata"
     ],
     "language": "python",
     "metadata": {},
     "outputs": [
      {
       "html": [
        "<div style=\"max-height:1000px;max-width:1500px;overflow:auto;\">\n",
        "<table border=\"1\" class=\"dataframe\">\n",
        "  <thead>\n",
        "    <tr style=\"text-align: right;\">\n",
        "      <th></th>\n",
        "      <th>Role</th>\n",
        "      <th>Type</th>\n",
        "      <th>dtype</th>\n",
        "    </tr>\n",
        "  </thead>\n",
        "  <tbody>\n",
        "    <tr>\n",
        "      <th>SalePrice</th>\n",
        "      <td> Target</td>\n",
        "      <td>   Number</td>\n",
        "      <td>  int64</td>\n",
        "    </tr>\n",
        "    <tr>\n",
        "      <th>YearMade</th>\n",
        "      <td>  Input</td>\n",
        "      <td>   Number</td>\n",
        "      <td>  int64</td>\n",
        "    </tr>\n",
        "    <tr>\n",
        "      <th>saledate</th>\n",
        "      <td> Reject</td>\n",
        "      <td>   Number</td>\n",
        "      <td>  int64</td>\n",
        "    </tr>\n",
        "    <tr>\n",
        "      <th>fiBaseModel</th>\n",
        "      <td> Reject</td>\n",
        "      <td> Category</td>\n",
        "      <td> object</td>\n",
        "    </tr>\n",
        "    <tr>\n",
        "      <th>fiSecondaryDesc</th>\n",
        "      <td> Reject</td>\n",
        "      <td> Category</td>\n",
        "      <td> object</td>\n",
        "    </tr>\n",
        "    <tr>\n",
        "      <th>ProductSize</th>\n",
        "      <td>  Input</td>\n",
        "      <td> Category</td>\n",
        "      <td> object</td>\n",
        "    </tr>\n",
        "    <tr>\n",
        "      <th>state</th>\n",
        "      <td> Reject</td>\n",
        "      <td> Category</td>\n",
        "      <td> object</td>\n",
        "    </tr>\n",
        "    <tr>\n",
        "      <th>ProductGroup</th>\n",
        "      <td>  Input</td>\n",
        "      <td> Category</td>\n",
        "      <td> object</td>\n",
        "    </tr>\n",
        "    <tr>\n",
        "      <th>Enclosure</th>\n",
        "      <td>  Input</td>\n",
        "      <td> Category</td>\n",
        "      <td> object</td>\n",
        "    </tr>\n",
        "    <tr>\n",
        "      <th>Hydraulics</th>\n",
        "      <td>  Input</td>\n",
        "      <td> Category</td>\n",
        "      <td> object</td>\n",
        "    </tr>\n",
        "  </tbody>\n",
        "</table>\n",
        "</div>"
       ],
       "output_type": "pyout",
       "prompt_number": 29,
       "text": [
        "                   Role      Type   dtype\n",
        "SalePrice        Target    Number   int64\n",
        "YearMade          Input    Number   int64\n",
        "saledate         Reject    Number   int64\n",
        "fiBaseModel      Reject  Category  object\n",
        "fiSecondaryDesc  Reject  Category  object\n",
        "ProductSize       Input  Category  object\n",
        "state            Reject  Category  object\n",
        "ProductGroup      Input  Category  object\n",
        "Enclosure         Input  Category  object\n",
        "Hydraulics        Input  Category  object"
       ]
      }
     ],
     "prompt_number": 29
    },
    {
     "cell_type": "code",
     "collapsed": false,
     "input": [
      "inputs = copper.transform.inputs2ml(ds)"
     ],
     "language": "python",
     "metadata": {},
     "outputs": [],
     "prompt_number": 30
    },
    {
     "cell_type": "code",
     "collapsed": false,
     "input": [
      "inputs"
     ],
     "language": "python",
     "metadata": {},
     "outputs": [
      {
       "output_type": "pyout",
       "prompt_number": 31,
       "text": [
        "<class 'pandas.core.frame.DataFrame'>\n",
        "Int64Index: 401125 entries, 0 to 401124\n",
        "Data columns:\n",
        "YearMade                          401125  non-null values\n",
        "ProductSize [Compact]             401125  non-null values\n",
        "ProductSize [Large]               401125  non-null values\n",
        "ProductSize [Large / Medium]      401125  non-null values\n",
        "ProductSize [Medium]              401125  non-null values\n",
        "ProductSize [Mini]                401125  non-null values\n",
        "ProductSize [Small]               401125  non-null values\n",
        "ProductGroup [BL]                 401125  non-null values\n",
        "ProductGroup [MG]                 401125  non-null values\n",
        "ProductGroup [SSL]                401125  non-null values\n",
        "ProductGroup [TEX]                401125  non-null values\n",
        "ProductGroup [TTT]                401125  non-null values\n",
        "ProductGroup [WL]                 401125  non-null values\n",
        "Enclosure [EROPS]                 401125  non-null values\n",
        "Enclosure [EROPS AC]              401125  non-null values\n",
        "Enclosure [NO ROPS]               401125  non-null values\n",
        "Enclosure [OROPS]                 401125  non-null values\n",
        "Hydraulics [2 Valve]              401125  non-null values\n",
        "Hydraulics [3 Valve]              401125  non-null values\n",
        "Hydraulics [4 Valve]              401125  non-null values\n",
        "Hydraulics [Auxiliary]            401125  non-null values\n",
        "Hydraulics [Base + 1 Function]    401125  non-null values\n",
        "Hydraulics [Base + 2 Function]    401125  non-null values\n",
        "Hydraulics [Base + 3 Function]    401125  non-null values\n",
        "Hydraulics [Base + 4 Function]    401125  non-null values\n",
        "Hydraulics [Base + 5 Function]    401125  non-null values\n",
        "Hydraulics [Base + 6 Function]    401125  non-null values\n",
        "Hydraulics [Standard]             401125  non-null values\n",
        "dtypes: int64(28)"
       ]
      }
     ],
     "prompt_number": 31
    },
    {
     "cell_type": "code",
     "collapsed": false,
     "input": [
      "inputs.ix[:, 0:10].head()"
     ],
     "language": "python",
     "metadata": {},
     "outputs": [
      {
       "html": [
        "<div style=\"max-height:1000px;max-width:1500px;overflow:auto;\">\n",
        "<table border=\"1\" class=\"dataframe\">\n",
        "  <thead>\n",
        "    <tr style=\"text-align: right;\">\n",
        "      <th></th>\n",
        "      <th>YearMade</th>\n",
        "      <th>ProductSize [Compact]</th>\n",
        "      <th>ProductSize [Large]</th>\n",
        "      <th>ProductSize [Large / Medium]</th>\n",
        "      <th>ProductSize [Medium]</th>\n",
        "      <th>ProductSize [Mini]</th>\n",
        "      <th>ProductSize [Small]</th>\n",
        "      <th>ProductGroup [BL]</th>\n",
        "      <th>ProductGroup [MG]</th>\n",
        "      <th>ProductGroup [SSL]</th>\n",
        "    </tr>\n",
        "  </thead>\n",
        "  <tbody>\n",
        "    <tr>\n",
        "      <th>0</th>\n",
        "      <td> 2004</td>\n",
        "      <td> 0</td>\n",
        "      <td> 0</td>\n",
        "      <td> 0</td>\n",
        "      <td> 1</td>\n",
        "      <td> 0</td>\n",
        "      <td> 0</td>\n",
        "      <td> 0</td>\n",
        "      <td> 0</td>\n",
        "      <td> 0</td>\n",
        "    </tr>\n",
        "    <tr>\n",
        "      <th>1</th>\n",
        "      <td> 1996</td>\n",
        "      <td> 0</td>\n",
        "      <td> 0</td>\n",
        "      <td> 0</td>\n",
        "      <td> 1</td>\n",
        "      <td> 0</td>\n",
        "      <td> 0</td>\n",
        "      <td> 0</td>\n",
        "      <td> 0</td>\n",
        "      <td> 0</td>\n",
        "    </tr>\n",
        "    <tr>\n",
        "      <th>2</th>\n",
        "      <td> 2001</td>\n",
        "      <td> 0</td>\n",
        "      <td> 0</td>\n",
        "      <td> 0</td>\n",
        "      <td> 1</td>\n",
        "      <td> 0</td>\n",
        "      <td> 0</td>\n",
        "      <td> 0</td>\n",
        "      <td> 0</td>\n",
        "      <td> 1</td>\n",
        "    </tr>\n",
        "    <tr>\n",
        "      <th>3</th>\n",
        "      <td> 2001</td>\n",
        "      <td> 0</td>\n",
        "      <td> 0</td>\n",
        "      <td> 0</td>\n",
        "      <td> 0</td>\n",
        "      <td> 0</td>\n",
        "      <td> 1</td>\n",
        "      <td> 0</td>\n",
        "      <td> 0</td>\n",
        "      <td> 0</td>\n",
        "    </tr>\n",
        "    <tr>\n",
        "      <th>4</th>\n",
        "      <td> 2007</td>\n",
        "      <td> 0</td>\n",
        "      <td> 0</td>\n",
        "      <td> 0</td>\n",
        "      <td> 1</td>\n",
        "      <td> 0</td>\n",
        "      <td> 0</td>\n",
        "      <td> 0</td>\n",
        "      <td> 0</td>\n",
        "      <td> 1</td>\n",
        "    </tr>\n",
        "  </tbody>\n",
        "</table>\n",
        "</div>"
       ],
       "output_type": "pyout",
       "prompt_number": 32,
       "text": [
        "   YearMade  ProductSize [Compact]  ProductSize [Large]  \\\n",
        "0      2004                      0                    0   \n",
        "1      1996                      0                    0   \n",
        "2      2001                      0                    0   \n",
        "3      2001                      0                    0   \n",
        "4      2007                      0                    0   \n",
        "\n",
        "   ProductSize [Large / Medium]  ProductSize [Medium]  ProductSize [Mini]  \\\n",
        "0                             0                     1                   0   \n",
        "1                             0                     1                   0   \n",
        "2                             0                     1                   0   \n",
        "3                             0                     0                   0   \n",
        "4                             0                     1                   0   \n",
        "\n",
        "   ProductSize [Small]  ProductGroup [BL]  ProductGroup [MG]  ProductGroup [SSL]  \n",
        "0                    0                  0                  0                   0  \n",
        "1                    0                  0                  0                   0  \n",
        "2                    0                  0                  0                   1  \n",
        "3                    1                  0                  0                   0  \n",
        "4                    0                  0                  0                   1  "
       ]
      }
     ],
     "prompt_number": 32
    },
    {
     "cell_type": "heading",
     "level": 2,
     "metadata": {},
     "source": [
      "Machine Learning"
     ]
    },
    {
     "cell_type": "code",
     "collapsed": false,
     "input": [
      "ml = copper.MachineLearning()"
     ],
     "language": "python",
     "metadata": {},
     "outputs": [],
     "prompt_number": 33
    },
    {
     "cell_type": "code",
     "collapsed": false,
     "input": [
      "ml.sample(ds, train_size=0.7)"
     ],
     "language": "python",
     "metadata": {},
     "outputs": [],
     "prompt_number": 34
    },
    {
     "cell_type": "code",
     "collapsed": false,
     "input": [
      "from sklearn.ensemble import RandomForestRegressor\n",
      "rr = RandomForestRegressor()"
     ],
     "language": "python",
     "metadata": {},
     "outputs": [],
     "prompt_number": 35
    },
    {
     "cell_type": "code",
     "collapsed": false,
     "input": [
      "ml.add_clf(rr, 'rr')"
     ],
     "language": "python",
     "metadata": {},
     "outputs": [],
     "prompt_number": 36
    },
    {
     "cell_type": "code",
     "collapsed": false,
     "input": [
      "ml.fit()"
     ],
     "language": "python",
     "metadata": {},
     "outputs": [],
     "prompt_number": 37
    },
    {
     "cell_type": "code",
     "collapsed": false,
     "input": [
      "ml.mse()"
     ],
     "language": "python",
     "metadata": {},
     "outputs": [
      {
       "output_type": "pyout",
       "prompt_number": 38,
       "text": [
        "rr    2.148959e+08\n",
        "Name: Mean Squared Error"
       ]
      }
     ],
     "prompt_number": 38
    },
    {
     "cell_type": "code",
     "collapsed": false,
     "input": [
      "ml.predict().head()"
     ],
     "language": "python",
     "metadata": {},
     "outputs": [
      {
       "html": [
        "<div style=\"max-height:1000px;max-width:1500px;overflow:auto;\">\n",
        "<table border=\"1\" class=\"dataframe\">\n",
        "  <thead>\n",
        "    <tr style=\"text-align: right;\">\n",
        "      <th></th>\n",
        "      <th>rr</th>\n",
        "    </tr>\n",
        "  </thead>\n",
        "  <tbody>\n",
        "    <tr>\n",
        "      <th>0</th>\n",
        "      <td> 56931.148879</td>\n",
        "    </tr>\n",
        "    <tr>\n",
        "      <th>1</th>\n",
        "      <td>  8955.946431</td>\n",
        "    </tr>\n",
        "    <tr>\n",
        "      <th>2</th>\n",
        "      <td> 32145.645546</td>\n",
        "    </tr>\n",
        "    <tr>\n",
        "      <th>3</th>\n",
        "      <td> 54641.859782</td>\n",
        "    </tr>\n",
        "    <tr>\n",
        "      <th>4</th>\n",
        "      <td> 28230.531763</td>\n",
        "    </tr>\n",
        "  </tbody>\n",
        "</table>\n",
        "</div>"
       ],
       "output_type": "pyout",
       "prompt_number": 40,
       "text": [
        "             rr\n",
        "0  56931.148879\n",
        "1   8955.946431\n",
        "2  32145.645546\n",
        "3  54641.859782\n",
        "4  28230.531763"
       ]
      }
     ],
     "prompt_number": 40
    },
    {
     "cell_type": "code",
     "collapsed": false,
     "input": [
      "ml.y_test[:5]"
     ],
     "language": "python",
     "metadata": {},
     "outputs": [
      {
       "output_type": "pyout",
       "prompt_number": 42,
       "text": [
        "array([27000,  5500, 38000, 52500, 17250])"
       ]
      }
     ],
     "prompt_number": 42
    },
    {
     "cell_type": "code",
     "collapsed": false,
     "input": [],
     "language": "python",
     "metadata": {},
     "outputs": []
    }
   ],
   "metadata": {}
  }
 ]
}