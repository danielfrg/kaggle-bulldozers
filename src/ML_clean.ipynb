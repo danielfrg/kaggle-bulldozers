{
 "metadata": {
  "name": "ML_clean"
 },
 "nbformat": 3,
 "nbformat_minor": 0,
 "worksheets": [
  {
   "cells": [
    {
     "cell_type": "code",
     "collapsed": false,
     "input": [
      "%load_ext autoreload"
     ],
     "language": "python",
     "metadata": {},
     "outputs": [],
     "prompt_number": 1
    },
    {
     "cell_type": "code",
     "collapsed": false,
     "input": [
      "%autoreload 2"
     ],
     "language": "python",
     "metadata": {},
     "outputs": [],
     "prompt_number": 2
    },
    {
     "cell_type": "code",
     "collapsed": false,
     "input": [
      "import copper"
     ],
     "language": "python",
     "metadata": {},
     "outputs": [],
     "prompt_number": 3
    },
    {
     "cell_type": "code",
     "collapsed": false,
     "input": [
      "copper.project.path = '..'"
     ],
     "language": "python",
     "metadata": {},
     "outputs": [],
     "prompt_number": 4
    },
    {
     "cell_type": "code",
     "collapsed": false,
     "input": [
      "ds = copper.load('cleaned_py2')"
     ],
     "language": "python",
     "metadata": {},
     "outputs": [],
     "prompt_number": 5
    },
    {
     "cell_type": "code",
     "collapsed": false,
     "input": [
      "ds.metadata"
     ],
     "language": "python",
     "metadata": {},
     "outputs": [
      {
       "html": [
        "<div style=\"max-height:1000px;max-width:1500px;overflow:auto;\">\n",
        "<table border=\"1\" class=\"dataframe\">\n",
        "  <thead>\n",
        "    <tr style=\"text-align: right;\">\n",
        "      <th></th>\n",
        "      <th>Role</th>\n",
        "      <th>Type</th>\n",
        "      <th>dtype</th>\n",
        "    </tr>\n",
        "  </thead>\n",
        "  <tbody>\n",
        "    <tr>\n",
        "      <th>SalePrice</th>\n",
        "      <td> Target</td>\n",
        "      <td>   Number</td>\n",
        "      <td>  int64</td>\n",
        "    </tr>\n",
        "    <tr>\n",
        "      <th>YearMade</th>\n",
        "      <td>  Input</td>\n",
        "      <td>   Number</td>\n",
        "      <td>  int64</td>\n",
        "    </tr>\n",
        "    <tr>\n",
        "      <th>saledate</th>\n",
        "      <td>  Input</td>\n",
        "      <td>   Number</td>\n",
        "      <td>  int64</td>\n",
        "    </tr>\n",
        "    <tr>\n",
        "      <th>fiBaseModel</th>\n",
        "      <td>  Input</td>\n",
        "      <td> Category</td>\n",
        "      <td> object</td>\n",
        "    </tr>\n",
        "    <tr>\n",
        "      <th>fiSecondaryDesc</th>\n",
        "      <td>  Input</td>\n",
        "      <td> Category</td>\n",
        "      <td> object</td>\n",
        "    </tr>\n",
        "    <tr>\n",
        "      <th>ProductSize</th>\n",
        "      <td>  Input</td>\n",
        "      <td> Category</td>\n",
        "      <td> object</td>\n",
        "    </tr>\n",
        "    <tr>\n",
        "      <th>state</th>\n",
        "      <td>  Input</td>\n",
        "      <td> Category</td>\n",
        "      <td> object</td>\n",
        "    </tr>\n",
        "    <tr>\n",
        "      <th>ProductGroup</th>\n",
        "      <td>  Input</td>\n",
        "      <td> Category</td>\n",
        "      <td> object</td>\n",
        "    </tr>\n",
        "    <tr>\n",
        "      <th>Enclosure</th>\n",
        "      <td>  Input</td>\n",
        "      <td> Category</td>\n",
        "      <td> object</td>\n",
        "    </tr>\n",
        "    <tr>\n",
        "      <th>Hydraulics</th>\n",
        "      <td>  Input</td>\n",
        "      <td> Category</td>\n",
        "      <td> object</td>\n",
        "    </tr>\n",
        "  </tbody>\n",
        "</table>\n",
        "</div>"
       ],
       "output_type": "pyout",
       "prompt_number": 6,
       "text": [
        "                   Role      Type   dtype\n",
        "SalePrice        Target    Number   int64\n",
        "YearMade          Input    Number   int64\n",
        "saledate          Input    Number   int64\n",
        "fiBaseModel       Input  Category  object\n",
        "fiSecondaryDesc   Input  Category  object\n",
        "ProductSize       Input  Category  object\n",
        "state             Input  Category  object\n",
        "ProductGroup      Input  Category  object\n",
        "Enclosure         Input  Category  object\n",
        "Hydraulics        Input  Category  object"
       ]
      }
     ],
     "prompt_number": 6
    },
    {
     "cell_type": "code",
     "collapsed": false,
     "input": [
      "ds.percent_missing()"
     ],
     "language": "python",
     "metadata": {},
     "outputs": [
      {
       "output_type": "pyout",
       "prompt_number": 7,
       "text": [
        "ProductSize        0.525460\n",
        "fiSecondaryDesc    0.342016\n",
        "Hydraulics         0.200848\n",
        "Enclosure          0.000815\n",
        "ProductGroup       0.000000\n",
        "state              0.000000\n",
        "fiBaseModel        0.000000\n",
        "saledate           0.000000\n",
        "YearMade           0.000000\n",
        "SalePrice          0.000000"
       ]
      }
     ],
     "prompt_number": 7
    },
    {
     "cell_type": "code",
     "collapsed": false,
     "input": [
      "ds.fillna(method='mean')"
     ],
     "language": "python",
     "metadata": {},
     "outputs": [],
     "prompt_number": 8
    },
    {
     "cell_type": "code",
     "collapsed": false,
     "input": [
      "ds.percent_missing()"
     ],
     "language": "python",
     "metadata": {},
     "outputs": [
      {
       "output_type": "pyout",
       "prompt_number": 9,
       "text": [
        "Hydraulics         0\n",
        "Enclosure          0\n",
        "ProductGroup       0\n",
        "state              0\n",
        "ProductSize        0\n",
        "fiSecondaryDesc    0\n",
        "fiBaseModel        0\n",
        "saledate           0\n",
        "YearMade           0\n",
        "SalePrice          0"
       ]
      }
     ],
     "prompt_number": 9
    },
    {
     "cell_type": "code",
     "collapsed": false,
     "input": [
      "ds.filter(type=ds.CATEGORY, ret_ds=True).unique_values()"
     ],
     "language": "python",
     "metadata": {},
     "outputs": [
      {
       "output_type": "pyout",
       "prompt_number": 12,
       "text": [
        "fiBaseModel        1950\n",
        "fiSecondaryDesc     175\n",
        "state                53\n",
        "Hydraulics           11\n",
        "ProductGroup          6\n",
        "ProductSize           6\n",
        "Enclosure             4"
       ]
      }
     ],
     "prompt_number": 12
    },
    {
     "cell_type": "code",
     "collapsed": false,
     "input": [
      "ds.role['fiBaseModel'] = ds.REJECT\n",
      "ds.role['fiSecondaryDesc'] = ds.REJECT"
     ],
     "language": "python",
     "metadata": {},
     "outputs": [],
     "prompt_number": 16
    },
    {
     "cell_type": "code",
     "collapsed": false,
     "input": [
      "copper.transform.inputs2ml(ds)"
     ],
     "language": "python",
     "metadata": {},
     "outputs": [
      {
       "output_type": "pyout",
       "prompt_number": 31,
       "text": [
        "<class 'pandas.core.frame.DataFrame'>\n",
        "Int64Index: 401125 entries, 0 to 401124\n",
        "Data columns:\n",
        "YearMade        401125  non-null values\n",
        "saledate        401125  non-null values\n",
        "ProductSize     401125  non-null values\n",
        "state           401125  non-null values\n",
        "ProductGroup    401125  non-null values\n",
        "Enclosure       401125  non-null values\n",
        "Hydraulics      401125  non-null values\n",
        "dtypes: float64(5), int64(2)"
       ]
      }
     ],
     "prompt_number": 31
    },
    {
     "cell_type": "heading",
     "level": 2,
     "metadata": {},
     "source": [
      "Machine Learning"
     ]
    },
    {
     "cell_type": "code",
     "collapsed": false,
     "input": [
      "ml = copper.MachineLearning()"
     ],
     "language": "python",
     "metadata": {},
     "outputs": [],
     "prompt_number": 32
    },
    {
     "cell_type": "code",
     "collapsed": false,
     "input": [
      "ml.sample(ds, train_size=0.7)"
     ],
     "language": "python",
     "metadata": {},
     "outputs": [],
     "prompt_number": 33
    },
    {
     "cell_type": "code",
     "collapsed": false,
     "input": [
      "from sklearn import tree\n",
      "tree_clf = tree.DecisionTreeClassifier(max_depth=6)"
     ],
     "language": "python",
     "metadata": {},
     "outputs": [],
     "prompt_number": 34
    },
    {
     "cell_type": "code",
     "collapsed": false,
     "input": [
      "ml.add_clf(tree_clf, 'tree')"
     ],
     "language": "python",
     "metadata": {},
     "outputs": [],
     "prompt_number": 35
    },
    {
     "cell_type": "code",
     "collapsed": false,
     "input": [
      "ml.fit()"
     ],
     "language": "python",
     "metadata": {},
     "outputs": [],
     "prompt_number": 36
    },
    {
     "cell_type": "code",
     "collapsed": false,
     "input": [
      "ml.accuracy()"
     ],
     "language": "python",
     "metadata": {},
     "outputs": [
      {
       "output_type": "pyout",
       "prompt_number": 37,
       "text": [
        "tree    0.038849\n",
        "Name: Accuracy"
       ]
      }
     ],
     "prompt_number": 37
    },
    {
     "cell_type": "code",
     "collapsed": false,
     "input": [
      "from PyWiseRF import WiseRF\n",
      "rf = WiseRF(n_estimators=10)"
     ],
     "language": "python",
     "metadata": {},
     "outputs": [],
     "prompt_number": 26
    },
    {
     "cell_type": "code",
     "collapsed": false,
     "input": [
      "ml.add_clf(rf, 'rf')"
     ],
     "language": "python",
     "metadata": {},
     "outputs": [],
     "prompt_number": 28
    },
    {
     "cell_type": "code",
     "collapsed": false,
     "input": [
      "ml.fit()"
     ],
     "language": "python",
     "metadata": {},
     "outputs": [],
     "prompt_number": 29
    },
    {
     "cell_type": "code",
     "collapsed": false,
     "input": [
      "ml.accuracy()"
     ],
     "language": "python",
     "metadata": {},
     "outputs": [
      {
       "output_type": "pyout",
       "prompt_number": 30,
       "text": [
        "rf    0.096836\n",
        "Name: Accuracy"
       ]
      }
     ],
     "prompt_number": 30
    },
    {
     "cell_type": "code",
     "collapsed": false,
     "input": [],
     "language": "python",
     "metadata": {},
     "outputs": []
    }
   ],
   "metadata": {}
  }
 ]
}