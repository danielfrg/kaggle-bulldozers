{
 "metadata": {
  "name": "clean"
 },
 "nbformat": 3,
 "nbformat_minor": 0,
 "worksheets": [
  {
   "cells": [
    {
     "cell_type": "code",
     "collapsed": false,
     "input": [
      "import copper\n",
      "copper.project.path = '../'"
     ],
     "language": "python",
     "metadata": {},
     "outputs": [],
     "prompt_number": 1
    },
    {
     "cell_type": "code",
     "collapsed": false,
     "input": [
      "train = copper.read_csv('train.csv')"
     ],
     "language": "python",
     "metadata": {},
     "outputs": [],
     "prompt_number": 2
    },
    {
     "cell_type": "code",
     "collapsed": false,
     "input": [
      "len(train.columns)"
     ],
     "language": "python",
     "metadata": {},
     "outputs": [
      {
       "output_type": "pyout",
       "prompt_number": 3,
       "text": [
        "53"
       ]
      }
     ],
     "prompt_number": 3
    },
    {
     "cell_type": "heading",
     "level": 2,
     "metadata": {},
     "source": [
      "Cols 1"
     ]
    },
    {
     "cell_type": "code",
     "collapsed": false,
     "input": [
      "cols1 = train[train.columns[0:12]]"
     ],
     "language": "python",
     "metadata": {},
     "outputs": [],
     "prompt_number": 4
    },
    {
     "cell_type": "code",
     "collapsed": false,
     "input": [
      "cols1.head()"
     ],
     "language": "python",
     "metadata": {},
     "outputs": [
      {
       "html": [
        "<div style=\"max-height:1000px;max-width:1500px;overflow:auto;\">\n",
        "<table border=\"1\" class=\"dataframe\">\n",
        "  <thead>\n",
        "    <tr style=\"text-align: right;\">\n",
        "      <th></th>\n",
        "      <th>SalesID</th>\n",
        "      <th>SalePrice</th>\n",
        "      <th>MachineID</th>\n",
        "      <th>ModelID</th>\n",
        "      <th>datasource</th>\n",
        "      <th>auctioneerID</th>\n",
        "      <th>YearMade</th>\n",
        "      <th>MachineHoursCurrentMeter</th>\n",
        "      <th>UsageBand</th>\n",
        "      <th>saledate</th>\n",
        "      <th>fiModelDesc</th>\n",
        "      <th>fiBaseModel</th>\n",
        "    </tr>\n",
        "  </thead>\n",
        "  <tbody>\n",
        "    <tr>\n",
        "      <th>0</th>\n",
        "      <td> 1139246</td>\n",
        "      <td> 66000</td>\n",
        "      <td>  999089</td>\n",
        "      <td>  3157</td>\n",
        "      <td> 121</td>\n",
        "      <td> 3</td>\n",
        "      <td> 2004</td>\n",
        "      <td>   68</td>\n",
        "      <td>    Low</td>\n",
        "      <td> 11/16/2006 0:00</td>\n",
        "      <td>     521D</td>\n",
        "      <td>   521</td>\n",
        "    </tr>\n",
        "    <tr>\n",
        "      <th>1</th>\n",
        "      <td> 1139248</td>\n",
        "      <td> 57000</td>\n",
        "      <td>  117657</td>\n",
        "      <td>    77</td>\n",
        "      <td> 121</td>\n",
        "      <td> 3</td>\n",
        "      <td> 1996</td>\n",
        "      <td> 4640</td>\n",
        "      <td>    Low</td>\n",
        "      <td>  3/26/2004 0:00</td>\n",
        "      <td>   950FII</td>\n",
        "      <td>   950</td>\n",
        "    </tr>\n",
        "    <tr>\n",
        "      <th>2</th>\n",
        "      <td> 1139249</td>\n",
        "      <td> 10000</td>\n",
        "      <td>  434808</td>\n",
        "      <td>  7009</td>\n",
        "      <td> 121</td>\n",
        "      <td> 3</td>\n",
        "      <td> 2001</td>\n",
        "      <td> 2838</td>\n",
        "      <td>   High</td>\n",
        "      <td>  2/26/2004 0:00</td>\n",
        "      <td>      226</td>\n",
        "      <td>   226</td>\n",
        "    </tr>\n",
        "    <tr>\n",
        "      <th>3</th>\n",
        "      <td> 1139251</td>\n",
        "      <td> 38500</td>\n",
        "      <td> 1026470</td>\n",
        "      <td>   332</td>\n",
        "      <td> 121</td>\n",
        "      <td> 3</td>\n",
        "      <td> 2001</td>\n",
        "      <td> 3486</td>\n",
        "      <td>   High</td>\n",
        "      <td>  5/19/2011 0:00</td>\n",
        "      <td> PC120-6E</td>\n",
        "      <td> PC120</td>\n",
        "    </tr>\n",
        "    <tr>\n",
        "      <th>4</th>\n",
        "      <td> 1139253</td>\n",
        "      <td> 11000</td>\n",
        "      <td> 1057373</td>\n",
        "      <td> 17311</td>\n",
        "      <td> 121</td>\n",
        "      <td> 3</td>\n",
        "      <td> 2007</td>\n",
        "      <td>  722</td>\n",
        "      <td> Medium</td>\n",
        "      <td>  7/23/2009 0:00</td>\n",
        "      <td>     S175</td>\n",
        "      <td>  S175</td>\n",
        "    </tr>\n",
        "  </tbody>\n",
        "</table>\n",
        "</div>"
       ],
       "output_type": "pyout",
       "prompt_number": 5,
       "text": [
        "   SalesID  SalePrice  MachineID  ModelID  datasource  auctioneerID  YearMade  \\\n",
        "0  1139246      66000     999089     3157         121             3      2004   \n",
        "1  1139248      57000     117657       77         121             3      1996   \n",
        "2  1139249      10000     434808     7009         121             3      2001   \n",
        "3  1139251      38500    1026470      332         121             3      2001   \n",
        "4  1139253      11000    1057373    17311         121             3      2007   \n",
        "\n",
        "   MachineHoursCurrentMeter UsageBand         saledate fiModelDesc fiBaseModel  \n",
        "0                        68       Low  11/16/2006 0:00        521D         521  \n",
        "1                      4640       Low   3/26/2004 0:00      950FII         950  \n",
        "2                      2838      High   2/26/2004 0:00         226         226  \n",
        "3                      3486      High   5/19/2011 0:00    PC120-6E       PC120  \n",
        "4                       722    Medium   7/23/2009 0:00        S175        S175  "
       ]
      }
     ],
     "prompt_number": 5
    },
    {
     "cell_type": "code",
     "collapsed": false,
     "input": [
      "ds1 = copper.Dataset(cols1)"
     ],
     "language": "python",
     "metadata": {},
     "outputs": [],
     "prompt_number": 6
    },
    {
     "cell_type": "code",
     "collapsed": false,
     "input": [
      "ds1.role['SalesID'] = ds1.ID\n",
      "ds1.role['MachineID'] = ds1.ID\n",
      "ds1.role['ModelID'] = ds1.ID\n",
      "ds1.role['datasource'] = ds1.ID\n",
      "ds1.role['auctioneerID'] = ds1.ID\n",
      "ds1.role['SalePrice'] = ds1.TARGET"
     ],
     "language": "python",
     "metadata": {},
     "outputs": [],
     "prompt_number": 7
    },
    {
     "cell_type": "code",
     "collapsed": false,
     "input": [
      "ds1.metadata"
     ],
     "language": "python",
     "metadata": {},
     "outputs": [
      {
       "html": [
        "<div style=\"max-height:1000px;max-width:1500px;overflow:auto;\">\n",
        "<table border=\"1\" class=\"dataframe\">\n",
        "  <thead>\n",
        "    <tr style=\"text-align: right;\">\n",
        "      <th></th>\n",
        "      <th>Role</th>\n",
        "      <th>Type</th>\n",
        "      <th>dtype</th>\n",
        "    </tr>\n",
        "  </thead>\n",
        "  <tbody>\n",
        "    <tr>\n",
        "      <th>SalesID</th>\n",
        "      <td>       ID</td>\n",
        "      <td>   Number</td>\n",
        "      <td>   int64</td>\n",
        "    </tr>\n",
        "    <tr>\n",
        "      <th>SalePrice</th>\n",
        "      <td>   Target</td>\n",
        "      <td>   Number</td>\n",
        "      <td>   int64</td>\n",
        "    </tr>\n",
        "    <tr>\n",
        "      <th>MachineID</th>\n",
        "      <td>       ID</td>\n",
        "      <td>   Number</td>\n",
        "      <td>   int64</td>\n",
        "    </tr>\n",
        "    <tr>\n",
        "      <th>ModelID</th>\n",
        "      <td>       ID</td>\n",
        "      <td>   Number</td>\n",
        "      <td>   int64</td>\n",
        "    </tr>\n",
        "    <tr>\n",
        "      <th>datasource</th>\n",
        "      <td>       ID</td>\n",
        "      <td>   Number</td>\n",
        "      <td>   int64</td>\n",
        "    </tr>\n",
        "    <tr>\n",
        "      <th>auctioneerID</th>\n",
        "      <td>       ID</td>\n",
        "      <td>   Number</td>\n",
        "      <td> float64</td>\n",
        "    </tr>\n",
        "    <tr>\n",
        "      <th>YearMade</th>\n",
        "      <td>    Input</td>\n",
        "      <td>   Number</td>\n",
        "      <td>   int64</td>\n",
        "    </tr>\n",
        "    <tr>\n",
        "      <th>MachineHoursCurrentMeter</th>\n",
        "      <td> Rejected</td>\n",
        "      <td>   Number</td>\n",
        "      <td> float64</td>\n",
        "    </tr>\n",
        "    <tr>\n",
        "      <th>UsageBand</th>\n",
        "      <td> Rejected</td>\n",
        "      <td> Category</td>\n",
        "      <td>  object</td>\n",
        "    </tr>\n",
        "    <tr>\n",
        "      <th>saledate</th>\n",
        "      <td>    Input</td>\n",
        "      <td> Category</td>\n",
        "      <td>  object</td>\n",
        "    </tr>\n",
        "    <tr>\n",
        "      <th>fiModelDesc</th>\n",
        "      <td>    Input</td>\n",
        "      <td> Category</td>\n",
        "      <td>  object</td>\n",
        "    </tr>\n",
        "    <tr>\n",
        "      <th>fiBaseModel</th>\n",
        "      <td>    Input</td>\n",
        "      <td> Category</td>\n",
        "      <td>  object</td>\n",
        "    </tr>\n",
        "  </tbody>\n",
        "</table>\n",
        "</div>"
       ],
       "output_type": "pyout",
       "prompt_number": 8,
       "text": [
        "                              Role      Type    dtype\n",
        "SalesID                         ID    Number    int64\n",
        "SalePrice                   Target    Number    int64\n",
        "MachineID                       ID    Number    int64\n",
        "ModelID                         ID    Number    int64\n",
        "datasource                      ID    Number    int64\n",
        "auctioneerID                    ID    Number  float64\n",
        "YearMade                     Input    Number    int64\n",
        "MachineHoursCurrentMeter  Rejected    Number  float64\n",
        "UsageBand                 Rejected  Category   object\n",
        "saledate                     Input  Category   object\n",
        "fiModelDesc                  Input  Category   object\n",
        "fiBaseModel                  Input  Category   object"
       ]
      }
     ],
     "prompt_number": 8
    },
    {
     "cell_type": "heading",
     "level": 3,
     "metadata": {},
     "source": [
      "Sale date"
     ]
    },
    {
     "cell_type": "code",
     "collapsed": false,
     "input": [
      "ds1['saledate'].head(2)"
     ],
     "language": "python",
     "metadata": {},
     "outputs": [
      {
       "output_type": "pyout",
       "prompt_number": 9,
       "text": [
        "0    11/16/2006 0:00\n",
        "1     3/26/2004 0:00\n",
        "Name: saledate"
       ]
      }
     ],
     "prompt_number": 9
    },
    {
     "cell_type": "code",
     "collapsed": false,
     "input": [
      "ds1['saledate'] = ds1['saledate'].apply(copper.transform.strptime, args='%m/%d/%Y %H:%M')"
     ],
     "language": "python",
     "metadata": {},
     "outputs": [],
     "prompt_number": 10
    },
    {
     "cell_type": "code",
     "collapsed": false,
     "input": [
      "ds1['saledate'].head(2)"
     ],
     "language": "python",
     "metadata": {},
     "outputs": [
      {
       "output_type": "pyout",
       "prompt_number": 11,
       "text": [
        "0    2006-11-16 00:00:00\n",
        "1    2004-03-26 00:00:00\n",
        "Name: saledate"
       ]
      }
     ],
     "prompt_number": 11
    },
    {
     "cell_type": "code",
     "collapsed": false,
     "input": [
      "ds1['saledate'] = ds1['saledate'].apply(copper.transform.date_to_number)"
     ],
     "language": "python",
     "metadata": {},
     "outputs": [],
     "prompt_number": 12
    },
    {
     "cell_type": "code",
     "collapsed": false,
     "input": [
      "ds1['saledate'].head(2)"
     ],
     "language": "python",
     "metadata": {},
     "outputs": [
      {
       "output_type": "pyout",
       "prompt_number": 13,
       "text": [
        "0    13468\n",
        "1    12503\n",
        "Name: saledate"
       ]
      }
     ],
     "prompt_number": 13
    },
    {
     "cell_type": "code",
     "collapsed": false,
     "input": [
      "ds1.type['saledate'] = ds1.NUMBER\n",
      "ds1.update()"
     ],
     "language": "python",
     "metadata": {},
     "outputs": [],
     "prompt_number": 14
    },
    {
     "cell_type": "code",
     "collapsed": false,
     "input": [
      "ds1.metadata.tail()"
     ],
     "language": "python",
     "metadata": {},
     "outputs": [
      {
       "html": [
        "<div style=\"max-height:1000px;max-width:1500px;overflow:auto;\">\n",
        "<table border=\"1\" class=\"dataframe\">\n",
        "  <thead>\n",
        "    <tr style=\"text-align: right;\">\n",
        "      <th></th>\n",
        "      <th>Role</th>\n",
        "      <th>Type</th>\n",
        "      <th>dtype</th>\n",
        "    </tr>\n",
        "  </thead>\n",
        "  <tbody>\n",
        "    <tr>\n",
        "      <th>MachineHoursCurrentMeter</th>\n",
        "      <td> Rejected</td>\n",
        "      <td>   Number</td>\n",
        "      <td> float64</td>\n",
        "    </tr>\n",
        "    <tr>\n",
        "      <th>UsageBand</th>\n",
        "      <td> Rejected</td>\n",
        "      <td> Category</td>\n",
        "      <td>  object</td>\n",
        "    </tr>\n",
        "    <tr>\n",
        "      <th>saledate</th>\n",
        "      <td>    Input</td>\n",
        "      <td>   Number</td>\n",
        "      <td>   int64</td>\n",
        "    </tr>\n",
        "    <tr>\n",
        "      <th>fiModelDesc</th>\n",
        "      <td>    Input</td>\n",
        "      <td> Category</td>\n",
        "      <td>  object</td>\n",
        "    </tr>\n",
        "    <tr>\n",
        "      <th>fiBaseModel</th>\n",
        "      <td>    Input</td>\n",
        "      <td> Category</td>\n",
        "      <td>  object</td>\n",
        "    </tr>\n",
        "  </tbody>\n",
        "</table>\n",
        "</div>"
       ],
       "output_type": "pyout",
       "prompt_number": 15,
       "text": [
        "                              Role      Type    dtype\n",
        "MachineHoursCurrentMeter  Rejected    Number  float64\n",
        "UsageBand                 Rejected  Category   object\n",
        "saledate                     Input    Number    int64\n",
        "fiModelDesc                  Input  Category   object\n",
        "fiBaseModel                  Input  Category   object"
       ]
      }
     ],
     "prompt_number": 15
    },
    {
     "cell_type": "heading",
     "level": 3,
     "metadata": {},
     "source": [
      "Usage band"
     ]
    },
    {
     "cell_type": "code",
     "collapsed": false,
     "input": [
      "ds1.percent_missing()"
     ],
     "language": "python",
     "metadata": {},
     "outputs": [
      {
       "output_type": "pyout",
       "prompt_number": 16,
       "text": [
        "UsageBand                   0.826391\n",
        "MachineHoursCurrentMeter    0.644089\n",
        "auctioneerID                0.050199\n",
        "fiBaseModel                 0.000000\n",
        "fiModelDesc                 0.000000\n",
        "saledate                    0.000000\n",
        "YearMade                    0.000000\n",
        "datasource                  0.000000\n",
        "ModelID                     0.000000\n",
        "MachineID                   0.000000\n",
        "SalePrice                   0.000000\n",
        "SalesID                     0.000000"
       ]
      }
     ],
     "prompt_number": 16
    },
    {
     "cell_type": "code",
     "collapsed": false,
     "input": [
      "set(ds1['UsageBand'])"
     ],
     "language": "python",
     "metadata": {},
     "outputs": [
      {
       "output_type": "pyout",
       "prompt_number": 17,
       "text": [
        "set(['High', nan, 'Medium', 'Low'])"
       ]
      }
     ],
     "prompt_number": 17
    },
    {
     "cell_type": "heading",
     "level": 2,
     "metadata": {},
     "source": [
      "Cols 2"
     ]
    },
    {
     "cell_type": "code",
     "collapsed": false,
     "input": [
      "cols2 = train[train.columns[12:20]]\n",
      "cols2.head(7)"
     ],
     "language": "python",
     "metadata": {},
     "outputs": [
      {
       "html": [
        "<div style=\"max-height:1000px;max-width:1500px;overflow:auto;\">\n",
        "<table border=\"1\" class=\"dataframe\">\n",
        "  <thead>\n",
        "    <tr style=\"text-align: right;\">\n",
        "      <th></th>\n",
        "      <th>fiSecondaryDesc</th>\n",
        "      <th>fiModelSeries</th>\n",
        "      <th>fiModelDescriptor</th>\n",
        "      <th>ProductSize</th>\n",
        "      <th>fiProductClassDesc</th>\n",
        "      <th>state</th>\n",
        "      <th>ProductGroup</th>\n",
        "      <th>ProductGroupDesc</th>\n",
        "    </tr>\n",
        "  </thead>\n",
        "  <tbody>\n",
        "    <tr>\n",
        "      <th>0</th>\n",
        "      <td>   D</td>\n",
        "      <td> NaN</td>\n",
        "      <td> NaN</td>\n",
        "      <td>            NaN</td>\n",
        "      <td>          Wheel Loader - 110.0 to 120.0 Horsepower</td>\n",
        "      <td>        Alabama</td>\n",
        "      <td>  WL</td>\n",
        "      <td>       Wheel Loader</td>\n",
        "    </tr>\n",
        "    <tr>\n",
        "      <th>1</th>\n",
        "      <td>   F</td>\n",
        "      <td>  II</td>\n",
        "      <td> NaN</td>\n",
        "      <td>         Medium</td>\n",
        "      <td>          Wheel Loader - 150.0 to 175.0 Horsepower</td>\n",
        "      <td> North Carolina</td>\n",
        "      <td>  WL</td>\n",
        "      <td>       Wheel Loader</td>\n",
        "    </tr>\n",
        "    <tr>\n",
        "      <th>2</th>\n",
        "      <td> NaN</td>\n",
        "      <td> NaN</td>\n",
        "      <td> NaN</td>\n",
        "      <td>            NaN</td>\n",
        "      <td> Skid Steer Loader - 1351.0 to 1601.0 Lb Operat...</td>\n",
        "      <td>       New York</td>\n",
        "      <td> SSL</td>\n",
        "      <td> Skid Steer Loaders</td>\n",
        "    </tr>\n",
        "    <tr>\n",
        "      <th>3</th>\n",
        "      <td> NaN</td>\n",
        "      <td> -6E</td>\n",
        "      <td> NaN</td>\n",
        "      <td>          Small</td>\n",
        "      <td> Hydraulic Excavator, Track - 12.0 to 14.0 Metr...</td>\n",
        "      <td>          Texas</td>\n",
        "      <td> TEX</td>\n",
        "      <td>   Track Excavators</td>\n",
        "    </tr>\n",
        "    <tr>\n",
        "      <th>4</th>\n",
        "      <td> NaN</td>\n",
        "      <td> NaN</td>\n",
        "      <td> NaN</td>\n",
        "      <td>            NaN</td>\n",
        "      <td> Skid Steer Loader - 1601.0 to 1751.0 Lb Operat...</td>\n",
        "      <td>       New York</td>\n",
        "      <td> SSL</td>\n",
        "      <td> Skid Steer Loaders</td>\n",
        "    </tr>\n",
        "    <tr>\n",
        "      <th>5</th>\n",
        "      <td>   G</td>\n",
        "      <td> NaN</td>\n",
        "      <td> NaN</td>\n",
        "      <td>            NaN</td>\n",
        "      <td> Backhoe Loader - 14.0 to 15.0 Ft Standard Digg...</td>\n",
        "      <td>        Arizona</td>\n",
        "      <td>  BL</td>\n",
        "      <td>    Backhoe Loaders</td>\n",
        "    </tr>\n",
        "    <tr>\n",
        "      <th>6</th>\n",
        "      <td>   E</td>\n",
        "      <td> NaN</td>\n",
        "      <td>  LC</td>\n",
        "      <td> Large / Medium</td>\n",
        "      <td> Hydraulic Excavator, Track - 21.0 to 24.0 Metr...</td>\n",
        "      <td>        Florida</td>\n",
        "      <td> TEX</td>\n",
        "      <td>   Track Excavators</td>\n",
        "    </tr>\n",
        "  </tbody>\n",
        "</table>\n",
        "</div>"
       ],
       "output_type": "pyout",
       "prompt_number": 18,
       "text": [
        "  fiSecondaryDesc fiModelSeries fiModelDescriptor     ProductSize  \\\n",
        "0               D           NaN               NaN             NaN   \n",
        "1               F            II               NaN          Medium   \n",
        "2             NaN           NaN               NaN             NaN   \n",
        "3             NaN           -6E               NaN           Small   \n",
        "4             NaN           NaN               NaN             NaN   \n",
        "5               G           NaN               NaN             NaN   \n",
        "6               E           NaN                LC  Large / Medium   \n",
        "\n",
        "                                  fiProductClassDesc           state ProductGroup  \\\n",
        "0           Wheel Loader - 110.0 to 120.0 Horsepower         Alabama           WL   \n",
        "1           Wheel Loader - 150.0 to 175.0 Horsepower  North Carolina           WL   \n",
        "2  Skid Steer Loader - 1351.0 to 1601.0 Lb Operat...        New York          SSL   \n",
        "3  Hydraulic Excavator, Track - 12.0 to 14.0 Metr...           Texas          TEX   \n",
        "4  Skid Steer Loader - 1601.0 to 1751.0 Lb Operat...        New York          SSL   \n",
        "5  Backhoe Loader - 14.0 to 15.0 Ft Standard Digg...         Arizona           BL   \n",
        "6  Hydraulic Excavator, Track - 21.0 to 24.0 Metr...         Florida          TEX   \n",
        "\n",
        "     ProductGroupDesc  \n",
        "0        Wheel Loader  \n",
        "1        Wheel Loader  \n",
        "2  Skid Steer Loaders  \n",
        "3    Track Excavators  \n",
        "4  Skid Steer Loaders  \n",
        "5     Backhoe Loaders  \n",
        "6    Track Excavators  "
       ]
      }
     ],
     "prompt_number": 18
    },
    {
     "cell_type": "code",
     "collapsed": false,
     "input": [
      "ds2 = copper.Dataset(cols2)"
     ],
     "language": "python",
     "metadata": {},
     "outputs": [],
     "prompt_number": 19
    },
    {
     "cell_type": "code",
     "collapsed": false,
     "input": [
      "ds2.metadata"
     ],
     "language": "python",
     "metadata": {},
     "outputs": [
      {
       "html": [
        "<div style=\"max-height:1000px;max-width:1500px;overflow:auto;\">\n",
        "<table border=\"1\" class=\"dataframe\">\n",
        "  <thead>\n",
        "    <tr style=\"text-align: right;\">\n",
        "      <th></th>\n",
        "      <th>Role</th>\n",
        "      <th>Type</th>\n",
        "      <th>dtype</th>\n",
        "    </tr>\n",
        "  </thead>\n",
        "  <tbody>\n",
        "    <tr>\n",
        "      <th>fiSecondaryDesc</th>\n",
        "      <td>    Input</td>\n",
        "      <td> Category</td>\n",
        "      <td> object</td>\n",
        "    </tr>\n",
        "    <tr>\n",
        "      <th>fiModelSeries</th>\n",
        "      <td> Rejected</td>\n",
        "      <td> Category</td>\n",
        "      <td> object</td>\n",
        "    </tr>\n",
        "    <tr>\n",
        "      <th>fiModelDescriptor</th>\n",
        "      <td> Rejected</td>\n",
        "      <td> Category</td>\n",
        "      <td> object</td>\n",
        "    </tr>\n",
        "    <tr>\n",
        "      <th>ProductSize</th>\n",
        "      <td> Rejected</td>\n",
        "      <td> Category</td>\n",
        "      <td> object</td>\n",
        "    </tr>\n",
        "    <tr>\n",
        "      <th>fiProductClassDesc</th>\n",
        "      <td>    Input</td>\n",
        "      <td> Category</td>\n",
        "      <td> object</td>\n",
        "    </tr>\n",
        "    <tr>\n",
        "      <th>state</th>\n",
        "      <td>    Input</td>\n",
        "      <td> Category</td>\n",
        "      <td> object</td>\n",
        "    </tr>\n",
        "    <tr>\n",
        "      <th>ProductGroup</th>\n",
        "      <td>    Input</td>\n",
        "      <td> Category</td>\n",
        "      <td> object</td>\n",
        "    </tr>\n",
        "    <tr>\n",
        "      <th>ProductGroupDesc</th>\n",
        "      <td>    Input</td>\n",
        "      <td> Category</td>\n",
        "      <td> object</td>\n",
        "    </tr>\n",
        "  </tbody>\n",
        "</table>\n",
        "</div>"
       ],
       "output_type": "pyout",
       "prompt_number": 20,
       "text": [
        "                        Role      Type   dtype\n",
        "fiSecondaryDesc        Input  Category  object\n",
        "fiModelSeries       Rejected  Category  object\n",
        "fiModelDescriptor   Rejected  Category  object\n",
        "ProductSize         Rejected  Category  object\n",
        "fiProductClassDesc     Input  Category  object\n",
        "state                  Input  Category  object\n",
        "ProductGroup           Input  Category  object\n",
        "ProductGroupDesc       Input  Category  object"
       ]
      }
     ],
     "prompt_number": 20
    },
    {
     "cell_type": "code",
     "collapsed": false,
     "input": [
      "ds1['fiModelDesc'] = ds1.REJECTED\n",
      "ds2.role['fiProductClassDesc'] = ds2.REJECTED"
     ],
     "language": "python",
     "metadata": {},
     "outputs": [],
     "prompt_number": 21
    },
    {
     "cell_type": "code",
     "collapsed": false,
     "input": [
      "ds2.percent_missing()"
     ],
     "language": "python",
     "metadata": {},
     "outputs": [
      {
       "output_type": "pyout",
       "prompt_number": 22,
       "text": [
        "fiModelSeries         0.858129\n",
        "fiModelDescriptor     0.820707\n",
        "ProductSize           0.525460\n",
        "fiSecondaryDesc       0.342016\n",
        "ProductGroupDesc      0.000000\n",
        "ProductGroup          0.000000\n",
        "state                 0.000000\n",
        "fiProductClassDesc    0.000000"
       ]
      }
     ],
     "prompt_number": 22
    },
    {
     "cell_type": "code",
     "collapsed": false,
     "input": [
      "set(ds2['ProductSize'])"
     ],
     "language": "python",
     "metadata": {},
     "outputs": [
      {
       "output_type": "pyout",
       "prompt_number": 23,
       "text": [
        "set([nan, 'Mini', 'Medium', 'Large / Medium', 'Compact', 'Large', 'Small'])"
       ]
      }
     ],
     "prompt_number": 23
    },
    {
     "cell_type": "heading",
     "level": 2,
     "metadata": {},
     "source": [
      "Cols 3"
     ]
    },
    {
     "cell_type": "code",
     "collapsed": false,
     "input": [
      "cols3 = train[train.columns[20:31]]\n",
      "cols3.head(5)"
     ],
     "language": "python",
     "metadata": {},
     "outputs": [
      {
       "html": [
        "<div style=\"max-height:1000px;max-width:1500px;overflow:auto;\">\n",
        "<table border=\"1\" class=\"dataframe\">\n",
        "  <thead>\n",
        "    <tr style=\"text-align: right;\">\n",
        "      <th></th>\n",
        "      <th>Drive_System</th>\n",
        "      <th>Enclosure</th>\n",
        "      <th>Forks</th>\n",
        "      <th>Pad_Type</th>\n",
        "      <th>Ride_Control</th>\n",
        "      <th>Stick</th>\n",
        "      <th>Transmission</th>\n",
        "      <th>Turbocharged</th>\n",
        "      <th>Blade_Extension</th>\n",
        "      <th>Blade_Width</th>\n",
        "      <th>Enclosure_Type</th>\n",
        "    </tr>\n",
        "  </thead>\n",
        "  <tbody>\n",
        "    <tr>\n",
        "      <th>0</th>\n",
        "      <td> NaN</td>\n",
        "      <td> EROPS w AC</td>\n",
        "      <td> None or Unspecified</td>\n",
        "      <td> NaN</td>\n",
        "      <td> None or Unspecified</td>\n",
        "      <td> NaN</td>\n",
        "      <td> NaN</td>\n",
        "      <td> NaN</td>\n",
        "      <td> NaN</td>\n",
        "      <td> NaN</td>\n",
        "      <td> NaN</td>\n",
        "    </tr>\n",
        "    <tr>\n",
        "      <th>1</th>\n",
        "      <td> NaN</td>\n",
        "      <td> EROPS w AC</td>\n",
        "      <td> None or Unspecified</td>\n",
        "      <td> NaN</td>\n",
        "      <td> None or Unspecified</td>\n",
        "      <td> NaN</td>\n",
        "      <td> NaN</td>\n",
        "      <td> NaN</td>\n",
        "      <td> NaN</td>\n",
        "      <td> NaN</td>\n",
        "      <td> NaN</td>\n",
        "    </tr>\n",
        "    <tr>\n",
        "      <th>2</th>\n",
        "      <td> NaN</td>\n",
        "      <td>      OROPS</td>\n",
        "      <td> None or Unspecified</td>\n",
        "      <td> NaN</td>\n",
        "      <td>                 NaN</td>\n",
        "      <td> NaN</td>\n",
        "      <td> NaN</td>\n",
        "      <td> NaN</td>\n",
        "      <td> NaN</td>\n",
        "      <td> NaN</td>\n",
        "      <td> NaN</td>\n",
        "    </tr>\n",
        "    <tr>\n",
        "      <th>3</th>\n",
        "      <td> NaN</td>\n",
        "      <td> EROPS w AC</td>\n",
        "      <td>                 NaN</td>\n",
        "      <td> NaN</td>\n",
        "      <td>                 NaN</td>\n",
        "      <td> NaN</td>\n",
        "      <td> NaN</td>\n",
        "      <td> NaN</td>\n",
        "      <td> NaN</td>\n",
        "      <td> NaN</td>\n",
        "      <td> NaN</td>\n",
        "    </tr>\n",
        "    <tr>\n",
        "      <th>4</th>\n",
        "      <td> NaN</td>\n",
        "      <td>      EROPS</td>\n",
        "      <td> None or Unspecified</td>\n",
        "      <td> NaN</td>\n",
        "      <td>                 NaN</td>\n",
        "      <td> NaN</td>\n",
        "      <td> NaN</td>\n",
        "      <td> NaN</td>\n",
        "      <td> NaN</td>\n",
        "      <td> NaN</td>\n",
        "      <td> NaN</td>\n",
        "    </tr>\n",
        "  </tbody>\n",
        "</table>\n",
        "</div>"
       ],
       "output_type": "pyout",
       "prompt_number": 24,
       "text": [
        "  Drive_System   Enclosure                Forks Pad_Type         Ride_Control Stick  \\\n",
        "0          NaN  EROPS w AC  None or Unspecified      NaN  None or Unspecified   NaN   \n",
        "1          NaN  EROPS w AC  None or Unspecified      NaN  None or Unspecified   NaN   \n",
        "2          NaN       OROPS  None or Unspecified      NaN                  NaN   NaN   \n",
        "3          NaN  EROPS w AC                  NaN      NaN                  NaN   NaN   \n",
        "4          NaN       EROPS  None or Unspecified      NaN                  NaN   NaN   \n",
        "\n",
        "  Transmission Turbocharged Blade_Extension Blade_Width Enclosure_Type  \n",
        "0          NaN          NaN             NaN         NaN            NaN  \n",
        "1          NaN          NaN             NaN         NaN            NaN  \n",
        "2          NaN          NaN             NaN         NaN            NaN  \n",
        "3          NaN          NaN             NaN         NaN            NaN  \n",
        "4          NaN          NaN             NaN         NaN            NaN  "
       ]
      }
     ],
     "prompt_number": 24
    },
    {
     "cell_type": "code",
     "collapsed": false,
     "input": [
      "ds3 = copper.Dataset(cols3)"
     ],
     "language": "python",
     "metadata": {},
     "outputs": [],
     "prompt_number": 25
    },
    {
     "cell_type": "code",
     "collapsed": false,
     "input": [
      "ds3.unique_values()"
     ],
     "language": "python",
     "metadata": {},
     "outputs": [
      {
       "output_type": "pyout",
       "prompt_number": 26,
       "text": [
        "Transmission       8\n",
        "Blade_Width        6\n",
        "Enclosure          6\n",
        "Pad_Type           4\n",
        "Drive_System       4\n",
        "Enclosure_Type     3\n",
        "Ride_Control       3\n",
        "Blade_Extension    2\n",
        "Turbocharged       2\n",
        "Stick              2\n",
        "Forks              2"
       ]
      }
     ],
     "prompt_number": 26
    },
    {
     "cell_type": "heading",
     "level": 2,
     "metadata": {},
     "source": [
      "Cols 4"
     ]
    },
    {
     "cell_type": "code",
     "collapsed": false,
     "input": [
      "ds4 = copper.Dataset(train[train.columns[31:]])\n",
      "ds4.percent_missing()"
     ],
     "language": "python",
     "metadata": {},
     "outputs": [
      {
       "output_type": "pyout",
       "prompt_number": 27,
       "text": [
        "Tip_Control                0.937129\n",
        "Pushblock                  0.937129\n",
        "Engine_Horsepower          0.937129\n",
        "Scarifier                  0.937102\n",
        "Hydraulics_Flow            0.891899\n",
        "Grouser_Tracks             0.891899\n",
        "Coupler_System             0.891660\n",
        "Steering_Controls          0.827064\n",
        "Differential_Type          0.826959\n",
        "Backhoe_Mounting           0.803872\n",
        "Blade_Type                 0.800977\n",
        "Travel_Controls            0.800975\n",
        "Tire_Size                  0.763869\n",
        "Grouser_Type               0.752813\n",
        "Track_Type                 0.752813\n",
        "Pattern_Changer            0.752651\n",
        "Stick_Length               0.752651\n",
        "Thumb                      0.752476\n",
        "Undercarriage_Pad_Width    0.751020\n",
        "Ripper                     0.740388\n",
        "Coupler                    0.466620\n",
        "Hydraulics                 0.200823"
       ]
      }
     ],
     "prompt_number": 27
    },
    {
     "cell_type": "heading",
     "level": 2,
     "metadata": {},
     "source": [
      "Join"
     ]
    },
    {
     "cell_type": "code",
     "collapsed": false,
     "input": [
      "ds = copper.join(ds1, ds2, others=[ds3, ds4])"
     ],
     "language": "python",
     "metadata": {},
     "outputs": [],
     "prompt_number": 28
    },
    {
     "cell_type": "code",
     "collapsed": false,
     "input": [
      "len(ds.columns)"
     ],
     "language": "python",
     "metadata": {},
     "outputs": [
      {
       "output_type": "pyout",
       "prompt_number": 32,
       "text": [
        "53"
       ]
      }
     ],
     "prompt_number": 32
    },
    {
     "cell_type": "code",
     "collapsed": false,
     "input": [
      "ds.metadata.head(10)"
     ],
     "language": "python",
     "metadata": {},
     "outputs": [
      {
       "html": [
        "<div style=\"max-height:1000px;max-width:1500px;overflow:auto;\">\n",
        "<table border=\"1\" class=\"dataframe\">\n",
        "  <thead>\n",
        "    <tr style=\"text-align: right;\">\n",
        "      <th></th>\n",
        "      <th>Role</th>\n",
        "      <th>Type</th>\n",
        "      <th>dtype</th>\n",
        "    </tr>\n",
        "  </thead>\n",
        "  <tbody>\n",
        "    <tr>\n",
        "      <th>SalesID</th>\n",
        "      <td>       ID</td>\n",
        "      <td>   Number</td>\n",
        "      <td>   int64</td>\n",
        "    </tr>\n",
        "    <tr>\n",
        "      <th>SalePrice</th>\n",
        "      <td>   Target</td>\n",
        "      <td>   Number</td>\n",
        "      <td>   int64</td>\n",
        "    </tr>\n",
        "    <tr>\n",
        "      <th>MachineID</th>\n",
        "      <td>       ID</td>\n",
        "      <td>   Number</td>\n",
        "      <td>   int64</td>\n",
        "    </tr>\n",
        "    <tr>\n",
        "      <th>ModelID</th>\n",
        "      <td>       ID</td>\n",
        "      <td>   Number</td>\n",
        "      <td>   int64</td>\n",
        "    </tr>\n",
        "    <tr>\n",
        "      <th>datasource</th>\n",
        "      <td>       ID</td>\n",
        "      <td>   Number</td>\n",
        "      <td>   int64</td>\n",
        "    </tr>\n",
        "    <tr>\n",
        "      <th>auctioneerID</th>\n",
        "      <td>       ID</td>\n",
        "      <td>   Number</td>\n",
        "      <td> float64</td>\n",
        "    </tr>\n",
        "    <tr>\n",
        "      <th>YearMade</th>\n",
        "      <td>    Input</td>\n",
        "      <td>   Number</td>\n",
        "      <td>   int64</td>\n",
        "    </tr>\n",
        "    <tr>\n",
        "      <th>MachineHoursCurrentMeter</th>\n",
        "      <td> Rejected</td>\n",
        "      <td>   Number</td>\n",
        "      <td> float64</td>\n",
        "    </tr>\n",
        "    <tr>\n",
        "      <th>UsageBand</th>\n",
        "      <td> Rejected</td>\n",
        "      <td> Category</td>\n",
        "      <td>  object</td>\n",
        "    </tr>\n",
        "    <tr>\n",
        "      <th>saledate</th>\n",
        "      <td>    Input</td>\n",
        "      <td>   Number</td>\n",
        "      <td>   int64</td>\n",
        "    </tr>\n",
        "  </tbody>\n",
        "</table>\n",
        "</div>"
       ],
       "output_type": "pyout",
       "prompt_number": 34,
       "text": [
        "                              Role      Type    dtype\n",
        "SalesID                         ID    Number    int64\n",
        "SalePrice                   Target    Number    int64\n",
        "MachineID                       ID    Number    int64\n",
        "ModelID                         ID    Number    int64\n",
        "datasource                      ID    Number    int64\n",
        "auctioneerID                    ID    Number  float64\n",
        "YearMade                     Input    Number    int64\n",
        "MachineHoursCurrentMeter  Rejected    Number  float64\n",
        "UsageBand                 Rejected  Category   object\n",
        "saledate                     Input    Number    int64"
       ]
      }
     ],
     "prompt_number": 34
    },
    {
     "cell_type": "code",
     "collapsed": false,
     "input": [
      "copper.save(ds, 'cleaned')"
     ],
     "language": "python",
     "metadata": {},
     "outputs": [],
     "prompt_number": 35
    },
    {
     "cell_type": "code",
     "collapsed": false,
     "input": [],
     "language": "python",
     "metadata": {},
     "outputs": []
    }
   ],
   "metadata": {}
  }
 ]
}