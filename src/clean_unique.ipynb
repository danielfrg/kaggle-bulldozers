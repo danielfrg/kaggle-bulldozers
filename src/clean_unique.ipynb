{
 "metadata": {
  "name": "clean_unique"
 },
 "nbformat": 3,
 "nbformat_minor": 0,
 "worksheets": [
  {
   "cells": [
    {
     "cell_type": "code",
     "collapsed": false,
     "input": [
      "%load_ext autoreload"
     ],
     "language": "python",
     "metadata": {},
     "outputs": [],
     "prompt_number": 1
    },
    {
     "cell_type": "code",
     "collapsed": false,
     "input": [
      "%autoreload 2"
     ],
     "language": "python",
     "metadata": {},
     "outputs": [],
     "prompt_number": 2
    },
    {
     "cell_type": "code",
     "collapsed": false,
     "input": [
      "import copper\n",
      "copper.project.path = '../'"
     ],
     "language": "python",
     "metadata": {},
     "outputs": [],
     "prompt_number": 3
    },
    {
     "cell_type": "code",
     "collapsed": false,
     "input": [
      "train = copper.read_csv('train.csv')"
     ],
     "language": "python",
     "metadata": {},
     "outputs": [],
     "prompt_number": 4
    },
    {
     "cell_type": "heading",
     "level": 2,
     "metadata": {},
     "source": [
      "Columns 1"
     ]
    },
    {
     "cell_type": "markdown",
     "metadata": {},
     "source": [
      "Select the first 11 columsn and print its first values."
     ]
    },
    {
     "cell_type": "code",
     "collapsed": false,
     "input": [
      "cols1 = train[train.columns[0:12]]"
     ],
     "language": "python",
     "metadata": {},
     "outputs": [],
     "prompt_number": 5
    },
    {
     "cell_type": "code",
     "collapsed": false,
     "input": [
      "ds1 = copper.Dataset(cols1)"
     ],
     "language": "python",
     "metadata": {},
     "outputs": [],
     "prompt_number": 6
    },
    {
     "cell_type": "code",
     "collapsed": false,
     "input": [
      "ds1.role['SalesID'] = ds1.ID\n",
      "ds1.role['MachineID'] = ds1.ID\n",
      "ds1.role['ModelID'] = ds1.ID\n",
      "ds1.role['datasource'] = ds1.ID\n",
      "ds1.role['auctioneerID'] = ds1.ID\n",
      "ds1.role['SalePrice'] = ds1.TARGET"
     ],
     "language": "python",
     "metadata": {},
     "outputs": [],
     "prompt_number": 7
    },
    {
     "cell_type": "heading",
     "level": 3,
     "metadata": {},
     "source": [
      "Transforming a date"
     ]
    },
    {
     "cell_type": "code",
     "collapsed": false,
     "input": [
      "ds1['saledate'].head(2)"
     ],
     "language": "python",
     "metadata": {},
     "outputs": [
      {
       "output_type": "pyout",
       "prompt_number": 8,
       "text": [
        "0    11/16/2006 0:00\n",
        "1     3/26/2004 0:00\n",
        "Name: saledate"
       ]
      }
     ],
     "prompt_number": 8
    },
    {
     "cell_type": "code",
     "collapsed": false,
     "input": [
      "ds1['saledate'] = ds1['saledate'].apply(copper.transform.strptime, args='%m/%d/%Y %H:%M')"
     ],
     "language": "python",
     "metadata": {},
     "outputs": [],
     "prompt_number": 9
    },
    {
     "cell_type": "code",
     "collapsed": false,
     "input": [
      "ds1['saledate'].head(2)"
     ],
     "language": "python",
     "metadata": {},
     "outputs": [
      {
       "output_type": "pyout",
       "prompt_number": 10,
       "text": [
        "0    2006-11-16 00:00:00\n",
        "1    2004-03-26 00:00:00\n",
        "Name: saledate"
       ]
      }
     ],
     "prompt_number": 10
    },
    {
     "cell_type": "code",
     "collapsed": false,
     "input": [
      "ds1['saledate'] = ds1['saledate'].apply(copper.transform.date_to_number)"
     ],
     "language": "python",
     "metadata": {},
     "outputs": [],
     "prompt_number": 11
    },
    {
     "cell_type": "code",
     "collapsed": false,
     "input": [
      "ds1['saledate'].head(2)"
     ],
     "language": "python",
     "metadata": {},
     "outputs": [
      {
       "output_type": "pyout",
       "prompt_number": 12,
       "text": [
        "0    13468\n",
        "1    12503\n",
        "Name: saledate"
       ]
      }
     ],
     "prompt_number": 12
    },
    {
     "cell_type": "markdown",
     "metadata": {},
     "source": [
      "Change the type metadata of `saledate` because now is a Number not a Category."
     ]
    },
    {
     "cell_type": "code",
     "collapsed": false,
     "input": [
      "ds1.type['saledate'] = ds1.NUMBER"
     ],
     "language": "python",
     "metadata": {},
     "outputs": [],
     "prompt_number": 13
    },
    {
     "cell_type": "heading",
     "level": 3,
     "metadata": {},
     "source": [
      "Other variables"
     ]
    },
    {
     "cell_type": "code",
     "collapsed": false,
     "input": [
      "ds1.filter(type=ds1.CATEGORY, ret_ds=True).unique_values()"
     ],
     "language": "python",
     "metadata": {},
     "outputs": [
      {
       "output_type": "pyout",
       "prompt_number": 14,
       "text": [
        "fiModelDesc    4999\n",
        "fiBaseModel    1950\n",
        "UsageBand         3"
       ]
      }
     ],
     "prompt_number": 14
    },
    {
     "cell_type": "code",
     "collapsed": false,
     "input": [
      "ds1.role['fiModelDesc'] = ds1.REJECT\n",
      "ds1.role['fiBaseModel'] = ds1.REJECT\n",
      "ds1.role['UsageBand'] = ds1.INPUT"
     ],
     "language": "python",
     "metadata": {},
     "outputs": [],
     "prompt_number": 15
    },
    {
     "cell_type": "code",
     "collapsed": false,
     "input": [
      "ds1.percent_missing().head(3)"
     ],
     "language": "python",
     "metadata": {},
     "outputs": [
      {
       "output_type": "pyout",
       "prompt_number": 16,
       "text": [
        "UsageBand                   0.826391\n",
        "MachineHoursCurrentMeter    0.644089\n",
        "auctioneerID                0.050199"
       ]
      }
     ],
     "prompt_number": 16
    },
    {
     "cell_type": "code",
     "collapsed": false,
     "input": [
      "ds1.fillna(value='None or Unspecified')"
     ],
     "language": "python",
     "metadata": {},
     "outputs": [],
     "prompt_number": 17
    },
    {
     "cell_type": "code",
     "collapsed": false,
     "input": [
      "ds1.percent_missing().head(2)"
     ],
     "language": "python",
     "metadata": {},
     "outputs": [
      {
       "output_type": "pyout",
       "prompt_number": 18,
       "text": [
        "MachineHoursCurrentMeter    0.644089\n",
        "fiBaseModel                 0.000000"
       ]
      }
     ],
     "prompt_number": 18
    },
    {
     "cell_type": "code",
     "collapsed": false,
     "input": [
      "ds1.role['MachineHoursCurrentMeter'] = ds1.INPUT"
     ],
     "language": "python",
     "metadata": {},
     "outputs": [],
     "prompt_number": 19
    },
    {
     "cell_type": "code",
     "collapsed": false,
     "input": [
      "ds1.fillna(method='mean')"
     ],
     "language": "python",
     "metadata": {},
     "outputs": [],
     "prompt_number": 20
    },
    {
     "cell_type": "code",
     "collapsed": false,
     "input": [
      "ds1.percent_missing().head(2)"
     ],
     "language": "python",
     "metadata": {},
     "outputs": [
      {
       "output_type": "pyout",
       "prompt_number": 21,
       "text": [
        "fiBaseModel    0\n",
        "fiModelDesc    0"
       ]
      }
     ],
     "prompt_number": 21
    },
    {
     "cell_type": "code",
     "collapsed": false,
     "input": [
      "ds1.metadata"
     ],
     "language": "python",
     "metadata": {},
     "outputs": [
      {
       "html": [
        "<div style=\"max-height:1000px;max-width:1500px;overflow:auto;\">\n",
        "<table border=\"1\" class=\"dataframe\">\n",
        "  <thead>\n",
        "    <tr style=\"text-align: right;\">\n",
        "      <th></th>\n",
        "      <th>Role</th>\n",
        "      <th>Type</th>\n",
        "      <th>dtype</th>\n",
        "    </tr>\n",
        "  </thead>\n",
        "  <tbody>\n",
        "    <tr>\n",
        "      <th>SalesID</th>\n",
        "      <td>     ID</td>\n",
        "      <td>   Number</td>\n",
        "      <td>   int64</td>\n",
        "    </tr>\n",
        "    <tr>\n",
        "      <th>SalePrice</th>\n",
        "      <td> Target</td>\n",
        "      <td>   Number</td>\n",
        "      <td>   int64</td>\n",
        "    </tr>\n",
        "    <tr>\n",
        "      <th>MachineID</th>\n",
        "      <td>     ID</td>\n",
        "      <td>   Number</td>\n",
        "      <td>   int64</td>\n",
        "    </tr>\n",
        "    <tr>\n",
        "      <th>ModelID</th>\n",
        "      <td>     ID</td>\n",
        "      <td>   Number</td>\n",
        "      <td>   int64</td>\n",
        "    </tr>\n",
        "    <tr>\n",
        "      <th>datasource</th>\n",
        "      <td>     ID</td>\n",
        "      <td>   Number</td>\n",
        "      <td>   int64</td>\n",
        "    </tr>\n",
        "    <tr>\n",
        "      <th>auctioneerID</th>\n",
        "      <td>     ID</td>\n",
        "      <td>   Number</td>\n",
        "      <td> float64</td>\n",
        "    </tr>\n",
        "    <tr>\n",
        "      <th>YearMade</th>\n",
        "      <td>  Input</td>\n",
        "      <td>   Number</td>\n",
        "      <td>   int64</td>\n",
        "    </tr>\n",
        "    <tr>\n",
        "      <th>MachineHoursCurrentMeter</th>\n",
        "      <td>  Input</td>\n",
        "      <td>   Number</td>\n",
        "      <td> float64</td>\n",
        "    </tr>\n",
        "    <tr>\n",
        "      <th>UsageBand</th>\n",
        "      <td>  Input</td>\n",
        "      <td> Category</td>\n",
        "      <td>  object</td>\n",
        "    </tr>\n",
        "    <tr>\n",
        "      <th>saledate</th>\n",
        "      <td>  Input</td>\n",
        "      <td>   Number</td>\n",
        "      <td>   int64</td>\n",
        "    </tr>\n",
        "    <tr>\n",
        "      <th>fiModelDesc</th>\n",
        "      <td> Reject</td>\n",
        "      <td> Category</td>\n",
        "      <td>  object</td>\n",
        "    </tr>\n",
        "    <tr>\n",
        "      <th>fiBaseModel</th>\n",
        "      <td> Reject</td>\n",
        "      <td> Category</td>\n",
        "      <td>  object</td>\n",
        "    </tr>\n",
        "  </tbody>\n",
        "</table>\n",
        "</div>"
       ],
       "output_type": "pyout",
       "prompt_number": 22,
       "text": [
        "                            Role      Type    dtype\n",
        "SalesID                       ID    Number    int64\n",
        "SalePrice                 Target    Number    int64\n",
        "MachineID                     ID    Number    int64\n",
        "ModelID                       ID    Number    int64\n",
        "datasource                    ID    Number    int64\n",
        "auctioneerID                  ID    Number  float64\n",
        "YearMade                   Input    Number    int64\n",
        "MachineHoursCurrentMeter   Input    Number  float64\n",
        "UsageBand                  Input  Category   object\n",
        "saledate                   Input    Number    int64\n",
        "fiModelDesc               Reject  Category   object\n",
        "fiBaseModel               Reject  Category   object"
       ]
      }
     ],
     "prompt_number": 22
    },
    {
     "cell_type": "heading",
     "level": 2,
     "metadata": {},
     "source": [
      "Columns 2"
     ]
    },
    {
     "cell_type": "markdown",
     "metadata": {},
     "source": [
      "Select the next columns and print the percent of missing values."
     ]
    },
    {
     "cell_type": "code",
     "collapsed": false,
     "input": [
      "cols2 = train[train.columns[12:20]]"
     ],
     "language": "python",
     "metadata": {},
     "outputs": [],
     "prompt_number": 23
    },
    {
     "cell_type": "code",
     "collapsed": false,
     "input": [
      "ds2 = copper.Dataset(cols2)"
     ],
     "language": "python",
     "metadata": {},
     "outputs": [],
     "prompt_number": 24
    },
    {
     "cell_type": "code",
     "collapsed": false,
     "input": [
      "ds2.filter(type=ds1.CATEGORY, ret_ds=True).unique_values()"
     ],
     "language": "python",
     "metadata": {},
     "outputs": [
      {
       "output_type": "pyout",
       "prompt_number": 25,
       "text": [
        "fiSecondaryDesc       175\n",
        "fiModelDescriptor     139\n",
        "fiModelSeries         128\n",
        "fiProductClassDesc     74\n",
        "state                  53\n",
        "ProductGroupDesc        6\n",
        "ProductGroup            6\n",
        "ProductSize             6"
       ]
      }
     ],
     "prompt_number": 25
    },
    {
     "cell_type": "code",
     "collapsed": false,
     "input": [
      "ds2.role['fiSecondaryDesc'] = ds2.REJECTED\n",
      "ds2.role['fiModelDescriptor'] = ds2.REJECTED\n",
      "ds2.role['fiModelSeries'] = ds2.REJECTED\n",
      "ds2.role['fiProductClassDesc'] = ds2.REJECTED\n",
      "ds2.role['state'] = ds2.REJECTED"
     ],
     "language": "python",
     "metadata": {},
     "outputs": [],
     "prompt_number": 26
    },
    {
     "cell_type": "code",
     "collapsed": false,
     "input": [
      "ds2.role['ProductGroupDesc'] = ds2.REJECT\n",
      "ds2.role['ProductGroup'] = ds2.INPUT\n",
      "ds2.role['ProductSize'] = ds2.INPUT"
     ],
     "language": "python",
     "metadata": {},
     "outputs": [],
     "prompt_number": 27
    },
    {
     "cell_type": "code",
     "collapsed": false,
     "input": [
      "ds2.fillna(value='None or Unspecified')"
     ],
     "language": "python",
     "metadata": {},
     "outputs": [],
     "prompt_number": 28
    },
    {
     "cell_type": "code",
     "collapsed": false,
     "input": [
      "ds2.metadata"
     ],
     "language": "python",
     "metadata": {},
     "outputs": [
      {
       "html": [
        "<div style=\"max-height:1000px;max-width:1500px;overflow:auto;\">\n",
        "<table border=\"1\" class=\"dataframe\">\n",
        "  <thead>\n",
        "    <tr style=\"text-align: right;\">\n",
        "      <th></th>\n",
        "      <th>Role</th>\n",
        "      <th>Type</th>\n",
        "      <th>dtype</th>\n",
        "    </tr>\n",
        "  </thead>\n",
        "  <tbody>\n",
        "    <tr>\n",
        "      <th>fiSecondaryDesc</th>\n",
        "      <td> Reject</td>\n",
        "      <td> Category</td>\n",
        "      <td> object</td>\n",
        "    </tr>\n",
        "    <tr>\n",
        "      <th>fiModelSeries</th>\n",
        "      <td> Reject</td>\n",
        "      <td> Category</td>\n",
        "      <td> object</td>\n",
        "    </tr>\n",
        "    <tr>\n",
        "      <th>fiModelDescriptor</th>\n",
        "      <td> Reject</td>\n",
        "      <td> Category</td>\n",
        "      <td> object</td>\n",
        "    </tr>\n",
        "    <tr>\n",
        "      <th>ProductSize</th>\n",
        "      <td>  Input</td>\n",
        "      <td> Category</td>\n",
        "      <td> object</td>\n",
        "    </tr>\n",
        "    <tr>\n",
        "      <th>fiProductClassDesc</th>\n",
        "      <td> Reject</td>\n",
        "      <td> Category</td>\n",
        "      <td> object</td>\n",
        "    </tr>\n",
        "    <tr>\n",
        "      <th>state</th>\n",
        "      <td> Reject</td>\n",
        "      <td> Category</td>\n",
        "      <td> object</td>\n",
        "    </tr>\n",
        "    <tr>\n",
        "      <th>ProductGroup</th>\n",
        "      <td>  Input</td>\n",
        "      <td> Category</td>\n",
        "      <td> object</td>\n",
        "    </tr>\n",
        "    <tr>\n",
        "      <th>ProductGroupDesc</th>\n",
        "      <td> Reject</td>\n",
        "      <td> Category</td>\n",
        "      <td> object</td>\n",
        "    </tr>\n",
        "  </tbody>\n",
        "</table>\n",
        "</div>"
       ],
       "output_type": "pyout",
       "prompt_number": 29,
       "text": [
        "                      Role      Type   dtype\n",
        "fiSecondaryDesc     Reject  Category  object\n",
        "fiModelSeries       Reject  Category  object\n",
        "fiModelDescriptor   Reject  Category  object\n",
        "ProductSize          Input  Category  object\n",
        "fiProductClassDesc  Reject  Category  object\n",
        "state               Reject  Category  object\n",
        "ProductGroup         Input  Category  object\n",
        "ProductGroupDesc    Reject  Category  object"
       ]
      }
     ],
     "prompt_number": 29
    },
    {
     "cell_type": "heading",
     "level": 2,
     "metadata": {},
     "source": [
      "Columns 3"
     ]
    },
    {
     "cell_type": "markdown",
     "metadata": {},
     "source": [
      "Print the first rows of the next section and see the missing values."
     ]
    },
    {
     "cell_type": "code",
     "collapsed": false,
     "input": [
      "cols3 = train[train.columns[20:31]]"
     ],
     "language": "python",
     "metadata": {},
     "outputs": [],
     "prompt_number": 30
    },
    {
     "cell_type": "code",
     "collapsed": false,
     "input": [
      "ds3 = copper.Dataset(cols3)"
     ],
     "language": "python",
     "metadata": {},
     "outputs": [],
     "prompt_number": 31
    },
    {
     "cell_type": "code",
     "collapsed": false,
     "input": [
      "ds3.unique_values()"
     ],
     "language": "python",
     "metadata": {},
     "outputs": [
      {
       "output_type": "pyout",
       "prompt_number": 32,
       "text": [
        "Transmission       8\n",
        "Blade_Width        6\n",
        "Enclosure          6\n",
        "Pad_Type           4\n",
        "Drive_System       4\n",
        "Enclosure_Type     3\n",
        "Ride_Control       3\n",
        "Blade_Extension    2\n",
        "Turbocharged       2\n",
        "Stick              2\n",
        "Forks              2"
       ]
      }
     ],
     "prompt_number": 32
    },
    {
     "cell_type": "code",
     "collapsed": false,
     "input": [
      "ds3.role[:] = ds3.INPUT"
     ],
     "language": "python",
     "metadata": {},
     "outputs": [],
     "prompt_number": 33
    },
    {
     "cell_type": "code",
     "collapsed": false,
     "input": [
      "ds3.fillna(value='None or Unspecified')"
     ],
     "language": "python",
     "metadata": {},
     "outputs": [],
     "prompt_number": 34
    },
    {
     "cell_type": "code",
     "collapsed": false,
     "input": [
      "ds3.percent_missing()"
     ],
     "language": "python",
     "metadata": {},
     "outputs": [
      {
       "output_type": "pyout",
       "prompt_number": 35,
       "text": [
        "Enclosure_Type     0\n",
        "Blade_Width        0\n",
        "Blade_Extension    0\n",
        "Turbocharged       0\n",
        "Transmission       0\n",
        "Stick              0\n",
        "Ride_Control       0\n",
        "Pad_Type           0\n",
        "Forks              0\n",
        "Enclosure          0\n",
        "Drive_System       0"
       ]
      }
     ],
     "prompt_number": 35
    },
    {
     "cell_type": "code",
     "collapsed": false,
     "input": [
      "set(ds3['Enclosure'])"
     ],
     "language": "python",
     "metadata": {},
     "outputs": [
      {
       "output_type": "pyout",
       "prompt_number": 36,
       "text": [
        "set(['None or Unspecified',\n",
        "     'OROPS',\n",
        "     'EROPS w AC',\n",
        "     'NO ROPS',\n",
        "     'EROPS AC',\n",
        "     'EROPS'])"
       ]
      }
     ],
     "prompt_number": 36
    },
    {
     "cell_type": "markdown",
     "metadata": {},
     "source": [
      "I believe 'EROPS w AC' and 'EROPS AC' are the same, probably should look at the forum of the competition but for now lets say I am right. Also I change the 'None or Unspecified' to nan."
     ]
    },
    {
     "cell_type": "code",
     "collapsed": false,
     "input": [
      "ds3['Enclosure'][ds3['Enclosure'] == 'EROPS w AC'] = 'EROPS AC'"
     ],
     "language": "python",
     "metadata": {},
     "outputs": [],
     "prompt_number": 37
    },
    {
     "cell_type": "code",
     "collapsed": false,
     "input": [
      "ds3.metadata"
     ],
     "language": "python",
     "metadata": {},
     "outputs": [
      {
       "html": [
        "<div style=\"max-height:1000px;max-width:1500px;overflow:auto;\">\n",
        "<table border=\"1\" class=\"dataframe\">\n",
        "  <thead>\n",
        "    <tr style=\"text-align: right;\">\n",
        "      <th></th>\n",
        "      <th>Role</th>\n",
        "      <th>Type</th>\n",
        "      <th>dtype</th>\n",
        "    </tr>\n",
        "  </thead>\n",
        "  <tbody>\n",
        "    <tr>\n",
        "      <th>Drive_System</th>\n",
        "      <td> Input</td>\n",
        "      <td> Category</td>\n",
        "      <td> object</td>\n",
        "    </tr>\n",
        "    <tr>\n",
        "      <th>Enclosure</th>\n",
        "      <td> Input</td>\n",
        "      <td> Category</td>\n",
        "      <td> object</td>\n",
        "    </tr>\n",
        "    <tr>\n",
        "      <th>Forks</th>\n",
        "      <td> Input</td>\n",
        "      <td> Category</td>\n",
        "      <td> object</td>\n",
        "    </tr>\n",
        "    <tr>\n",
        "      <th>Pad_Type</th>\n",
        "      <td> Input</td>\n",
        "      <td> Category</td>\n",
        "      <td> object</td>\n",
        "    </tr>\n",
        "    <tr>\n",
        "      <th>Ride_Control</th>\n",
        "      <td> Input</td>\n",
        "      <td> Category</td>\n",
        "      <td> object</td>\n",
        "    </tr>\n",
        "    <tr>\n",
        "      <th>Stick</th>\n",
        "      <td> Input</td>\n",
        "      <td> Category</td>\n",
        "      <td> object</td>\n",
        "    </tr>\n",
        "    <tr>\n",
        "      <th>Transmission</th>\n",
        "      <td> Input</td>\n",
        "      <td> Category</td>\n",
        "      <td> object</td>\n",
        "    </tr>\n",
        "    <tr>\n",
        "      <th>Turbocharged</th>\n",
        "      <td> Input</td>\n",
        "      <td> Category</td>\n",
        "      <td> object</td>\n",
        "    </tr>\n",
        "    <tr>\n",
        "      <th>Blade_Extension</th>\n",
        "      <td> Input</td>\n",
        "      <td> Category</td>\n",
        "      <td> object</td>\n",
        "    </tr>\n",
        "    <tr>\n",
        "      <th>Blade_Width</th>\n",
        "      <td> Input</td>\n",
        "      <td> Category</td>\n",
        "      <td> object</td>\n",
        "    </tr>\n",
        "    <tr>\n",
        "      <th>Enclosure_Type</th>\n",
        "      <td> Input</td>\n",
        "      <td> Category</td>\n",
        "      <td> object</td>\n",
        "    </tr>\n",
        "  </tbody>\n",
        "</table>\n",
        "</div>"
       ],
       "output_type": "pyout",
       "prompt_number": 38,
       "text": [
        "                  Role      Type   dtype\n",
        "Drive_System     Input  Category  object\n",
        "Enclosure        Input  Category  object\n",
        "Forks            Input  Category  object\n",
        "Pad_Type         Input  Category  object\n",
        "Ride_Control     Input  Category  object\n",
        "Stick            Input  Category  object\n",
        "Transmission     Input  Category  object\n",
        "Turbocharged     Input  Category  object\n",
        "Blade_Extension  Input  Category  object\n",
        "Blade_Width      Input  Category  object\n",
        "Enclosure_Type   Input  Category  object"
       ]
      }
     ],
     "prompt_number": 38
    },
    {
     "cell_type": "heading",
     "level": 2,
     "metadata": {},
     "source": [
      "Columns 4"
     ]
    },
    {
     "cell_type": "markdown",
     "metadata": {},
     "source": [
      "Let's see the remaining columns and their missing values."
     ]
    },
    {
     "cell_type": "code",
     "collapsed": false,
     "input": [
      "ds4 = copper.Dataset(train[train.columns[31:]])\n",
      "ds4.unique_values()"
     ],
     "language": "python",
     "metadata": {},
     "outputs": [
      {
       "output_type": "pyout",
       "prompt_number": 39,
       "text": [
        "Stick_Length               29\n",
        "Undercarriage_Pad_Width    19\n",
        "Tire_Size                  17\n",
        "Hydraulics                 12\n",
        "Blade_Type                 10\n",
        "Travel_Controls             7\n",
        "Steering_Controls           5\n",
        "Differential_Type           4\n",
        "Ripper                      4\n",
        "Grouser_Type                3\n",
        "Pattern_Changer             3\n",
        "Thumb                       3\n",
        "Hydraulics_Flow             3\n",
        "Coupler                     3\n",
        "Tip_Control                 3\n",
        "Backhoe_Mounting            2\n",
        "Track_Type                  2\n",
        "Grouser_Tracks              2\n",
        "Coupler_System              2\n",
        "Scarifier                   2\n",
        "Pushblock                   2\n",
        "Engine_Horsepower           2"
       ]
      }
     ],
     "prompt_number": 39
    },
    {
     "cell_type": "markdown",
     "metadata": {},
     "source": [
      "Almost everything is rejected. Let's take a look at what is not rejected."
     ]
    },
    {
     "cell_type": "code",
     "collapsed": false,
     "input": [
      "ds4.role[:] = ds4.INPUT"
     ],
     "language": "python",
     "metadata": {},
     "outputs": [],
     "prompt_number": 40
    },
    {
     "cell_type": "code",
     "collapsed": false,
     "input": [
      "ds4.role['Stick_Length'] = ds4.REJECTED\n",
      "ds4.role['Undercarriage_Pad_Width'] = ds4.REJECTED\n",
      "ds4.role['Tire_Size'] = ds4.REJECTED"
     ],
     "language": "python",
     "metadata": {},
     "outputs": [],
     "prompt_number": 41
    },
    {
     "cell_type": "code",
     "collapsed": false,
     "input": [
      "ds4.fillna(value='None or Unspecified')"
     ],
     "language": "python",
     "metadata": {},
     "outputs": [],
     "prompt_number": 42
    },
    {
     "cell_type": "code",
     "collapsed": false,
     "input": [
      "ds4.percent_missing().head(5)"
     ],
     "language": "python",
     "metadata": {},
     "outputs": [
      {
       "output_type": "pyout",
       "prompt_number": 49,
       "text": [
        "Tire_Size                  0.763869\n",
        "Stick_Length               0.752651\n",
        "Undercarriage_Pad_Width    0.751020\n",
        "Steering_Controls          0.000000\n",
        "Differential_Type          0.000000"
       ]
      }
     ],
     "prompt_number": 49
    },
    {
     "cell_type": "heading",
     "level": 2,
     "metadata": {},
     "source": [
      "Join"
     ]
    },
    {
     "cell_type": "markdown",
     "metadata": {},
     "source": [
      "With all the datasets ready we can join them into one huge dataset."
     ]
    },
    {
     "cell_type": "code",
     "collapsed": false,
     "input": [
      "ds = copper.join(ds1, ds2, others=[ds3, ds4])"
     ],
     "language": "python",
     "metadata": {},
     "outputs": [],
     "prompt_number": 44
    },
    {
     "cell_type": "markdown",
     "metadata": {},
     "source": [
      "Let's just check the number of rows and columns."
     ]
    },
    {
     "cell_type": "code",
     "collapsed": false,
     "input": [
      "len(ds), len(ds.columns)"
     ],
     "language": "python",
     "metadata": {},
     "outputs": [
      {
       "output_type": "pyout",
       "prompt_number": 45,
       "text": [
        "(401125, 53)"
       ]
      }
     ],
     "prompt_number": 45
    },
    {
     "cell_type": "markdown",
     "metadata": {},
     "source": [
      "We have everything but I am not going to use all the rejected data in machine learning so let's filter the data taking only the Inputs and Targets.\n",
      "\n",
      "Note: By default the `filter` method returns a `pandas.DataFrame` but on this case I want a Dataset so I use the `ret_ds` parameter."
     ]
    },
    {
     "cell_type": "code",
     "collapsed": false,
     "input": [
      "ds = ds.filter(role=['Input', 'Target'], ret_ds=True)"
     ],
     "language": "python",
     "metadata": {},
     "outputs": [],
     "prompt_number": 46
    },
    {
     "cell_type": "markdown",
     "metadata": {},
     "source": [
      "Just a final check on the first values and missing values."
     ]
    },
    {
     "cell_type": "code",
     "collapsed": false,
     "input": [
      "len(ds), len(ds.columns)"
     ],
     "language": "python",
     "metadata": {},
     "outputs": [
      {
       "output_type": "pyout",
       "prompt_number": 47,
       "text": [
        "(401125, 37)"
       ]
      }
     ],
     "prompt_number": 47
    },
    {
     "cell_type": "code",
     "collapsed": false,
     "input": [
      "ds.percent_missing().head()"
     ],
     "language": "python",
     "metadata": {},
     "outputs": [
      {
       "output_type": "pyout",
       "prompt_number": 50,
       "text": [
        "Steering_Controls    0\n",
        "Differential_Type    0\n",
        "Travel_Controls      0\n",
        "Blade_Type           0\n",
        "Backhoe_Mounting     0"
       ]
      }
     ],
     "prompt_number": 50
    },
    {
     "cell_type": "markdown",
     "metadata": {},
     "source": [
      "Finally save the (pickled) Dataset for future use."
     ]
    },
    {
     "cell_type": "code",
     "collapsed": false,
     "input": [
      "copper.save(ds, 'cleaned_unique_py2')"
     ],
     "language": "python",
     "metadata": {},
     "outputs": [],
     "prompt_number": 52
    },
    {
     "cell_type": "heading",
     "level": 2,
     "metadata": {},
     "source": [
      "Conclusion"
     ]
    },
    {
     "cell_type": "markdown",
     "metadata": {},
     "source": [
      "Removing and addind columns using copper Datasets is really easy and the new join feature makes easier this kind of tasks.\n",
      "\n",
      "What I don't like is that I removed 43 columns and I dont have very high expectations only using the remaining 10 for machine learning. Usually the dates are not that useful, but will see the, and I prefer to have less columns with good information than 43 columns with 95% missing values. But that is the data available so I guess there is nothing much to do.\n",
      "\n",
      "I created a repo for this [kaggle competition](https://github.com/danielfrg/kaggle-bulldozers), there are only 30 days left so I want to make a few submisions, stay tunned for imputation and some machine learning. The code for [copper is on github](https://github.com/danielfrg/copper) too."
     ]
    }
   ],
   "metadata": {}
  }
 ]
}